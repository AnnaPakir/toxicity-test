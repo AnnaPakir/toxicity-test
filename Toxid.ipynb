{
  "cells": [
    {
      "cell_type": "markdown",
      "metadata": {
        "id": "view-in-github",
        "colab_type": "text"
      },
      "source": [
        "<a href=\"https://colab.research.google.com/github/AnnaPakir/toxicity-test/blob/main/Toxid.ipynb\" target=\"_parent\"><img src=\"https://colab.research.google.com/assets/colab-badge.svg\" alt=\"Open In Colab\"/></a>"
      ]
    },
    {
      "cell_type": "markdown",
      "source": [
        "# Проект для «Викишоп»"
      ],
      "metadata": {
        "id": "E7MuH-50Krjx"
      }
    },
    {
      "cell_type": "markdown",
      "metadata": {
        "id": "csMI71vEKZv6"
      },
      "source": [
        "**Описание проекта:** Комментарии под товаром в онлайн-магазинах позволяют сделать выбор покупателю в пользу одного или другого товара. В тоже время данные комментарии должны быть информативны и позезны. Токсичные комментарии в тоже время, не дают информации, а дают лишь эмоции, часто не связанные с самим товаром. С помошью данных о комментариях мы строим модели машинного обучения, позволяющие оценить токсичность комментариев и иметь возможность отправлять подобные ответы на модерацию.  <br>\n",
        "\n",
        "**Цель исследования:** создать модели машинного обучения,позволяющей определить токсичность комментариев.<br>\n",
        "\n",
        "**Ход исследования:**\n",
        "Для выполнения цели исследования необходимо будет выполнить следующие задачи:\n",
        "- <u>Первоначальный анализ и предобраотка данных.</u> Загрузка данных, первоначальное их изучение и анализ, их предобработка\n",
        "- <u>Обучние моделей.</u> Создание модели машинного оучения, подбор гипперпараметров, анализ моделей  \n",
        "- <u>Вывод </u> Описание результатов исследования, выводы.\n",
        "\n",
        "Данное исследование может стать основой для исследования и планирование работы с комментариями."
      ]
    },
    {
      "cell_type": "code",
      "execution_count": null,
      "metadata": {
        "id": "SoavsqD3KZv6"
      },
      "outputs": [],
      "source": [
        "import pandas as pd\n",
        "import matplotlib.pyplot as plt\n",
        "import seaborn as sns\n",
        "import numpy as np\n",
        "import nltk\n",
        "import re\n",
        "import spacy\n",
        "from nltk.corpus import stopwords\n",
        "from sklearn.pipeline import Pipeline\n",
        "from sklearn.model_selection import train_test_split, GridSearchCV\n",
        "from sklearn.feature_extraction.text import TfidfVectorizer\n",
        "from sklearn.linear_model import LogisticRegression\n",
        "from sklearn.neighbors import KNeighborsClassifier\n",
        "from sklearn.tree import DecisionTreeClassifier\n",
        "from sklearn.metrics import f1_score\n",
        "from sklearn.svm import SVC"
      ]
    },
    {
      "cell_type": "code",
      "execution_count": null,
      "metadata": {
        "id": "t6UcNSsZKZv7"
      },
      "outputs": [],
      "source": [
        "from tqdm.notebook import tqdm  # обеспечим себе возможность следить за ходом работы лемматизации\n",
        "tqdm.pandas()"
      ]
    },
    {
      "cell_type": "code",
      "execution_count": null,
      "metadata": {
        "id": "nI64N6PDKZv7"
      },
      "outputs": [],
      "source": [
        "from warnings import simplefilter  # удаляем комментарии программы\n",
        "simplefilter(action='ignore', category=FutureWarning)"
      ]
    },
    {
      "cell_type": "code",
      "execution_count": null,
      "metadata": {
        "id": "JkKvrRBJKZv7"
      },
      "outputs": [],
      "source": [
        "RANDOM_STATE = 42\n",
        "TEST_SIZE = 0.1"
      ]
    },
    {
      "cell_type": "markdown",
      "metadata": {
        "id": "2g9HQyUSKZv7"
      },
      "source": [
        "## Подготовка"
      ]
    },
    {
      "cell_type": "markdown",
      "metadata": {
        "id": "wA_sinX0KZv8"
      },
      "source": [
        "Загрузка датасета, его первоначальное изучение."
      ]
    },
    {
      "cell_type": "code",
      "execution_count": null,
      "metadata": {
        "id": "DFilCcXRKZv8"
      },
      "outputs": [],
      "source": [
        "df = pd.read_csv('/datasets/toxic_comments.csv', sep=',')"
      ]
    },
    {
      "cell_type": "code",
      "execution_count": null,
      "metadata": {
        "scrolled": false,
        "id": "qnuml9KVKZv8",
        "outputId": "1d3a2989-3bb6-4df1-bf5c-b5bca9c36228"
      },
      "outputs": [
        {
          "data": {
            "text/html": [
              "<div>\n",
              "<style scoped>\n",
              "    .dataframe tbody tr th:only-of-type {\n",
              "        vertical-align: middle;\n",
              "    }\n",
              "\n",
              "    .dataframe tbody tr th {\n",
              "        vertical-align: top;\n",
              "    }\n",
              "\n",
              "    .dataframe thead th {\n",
              "        text-align: right;\n",
              "    }\n",
              "</style>\n",
              "<table border=\"1\" class=\"dataframe\">\n",
              "  <thead>\n",
              "    <tr style=\"text-align: right;\">\n",
              "      <th></th>\n",
              "      <th>Unnamed: 0</th>\n",
              "      <th>text</th>\n",
              "      <th>toxic</th>\n",
              "    </tr>\n",
              "  </thead>\n",
              "  <tbody>\n",
              "    <tr>\n",
              "      <th>0</th>\n",
              "      <td>0</td>\n",
              "      <td>Explanation\\nWhy the edits made under my usern...</td>\n",
              "      <td>0</td>\n",
              "    </tr>\n",
              "    <tr>\n",
              "      <th>1</th>\n",
              "      <td>1</td>\n",
              "      <td>D'aww! He matches this background colour I'm s...</td>\n",
              "      <td>0</td>\n",
              "    </tr>\n",
              "    <tr>\n",
              "      <th>2</th>\n",
              "      <td>2</td>\n",
              "      <td>Hey man, I'm really not trying to edit war. It...</td>\n",
              "      <td>0</td>\n",
              "    </tr>\n",
              "    <tr>\n",
              "      <th>3</th>\n",
              "      <td>3</td>\n",
              "      <td>\"\\nMore\\nI can't make any real suggestions on ...</td>\n",
              "      <td>0</td>\n",
              "    </tr>\n",
              "    <tr>\n",
              "      <th>4</th>\n",
              "      <td>4</td>\n",
              "      <td>You, sir, are my hero. Any chance you remember...</td>\n",
              "      <td>0</td>\n",
              "    </tr>\n",
              "    <tr>\n",
              "      <th>5</th>\n",
              "      <td>5</td>\n",
              "      <td>\"\\n\\nCongratulations from me as well, use the ...</td>\n",
              "      <td>0</td>\n",
              "    </tr>\n",
              "    <tr>\n",
              "      <th>6</th>\n",
              "      <td>6</td>\n",
              "      <td>COCKSUCKER BEFORE YOU PISS AROUND ON MY WORK</td>\n",
              "      <td>1</td>\n",
              "    </tr>\n",
              "    <tr>\n",
              "      <th>7</th>\n",
              "      <td>7</td>\n",
              "      <td>Your vandalism to the Matt Shirvington article...</td>\n",
              "      <td>0</td>\n",
              "    </tr>\n",
              "    <tr>\n",
              "      <th>8</th>\n",
              "      <td>8</td>\n",
              "      <td>Sorry if the word 'nonsense' was offensive to ...</td>\n",
              "      <td>0</td>\n",
              "    </tr>\n",
              "    <tr>\n",
              "      <th>9</th>\n",
              "      <td>9</td>\n",
              "      <td>alignment on this subject and which are contra...</td>\n",
              "      <td>0</td>\n",
              "    </tr>\n",
              "  </tbody>\n",
              "</table>\n",
              "</div>"
            ],
            "text/plain": [
              "   Unnamed: 0                                               text  toxic\n",
              "0           0  Explanation\\nWhy the edits made under my usern...      0\n",
              "1           1  D'aww! He matches this background colour I'm s...      0\n",
              "2           2  Hey man, I'm really not trying to edit war. It...      0\n",
              "3           3  \"\\nMore\\nI can't make any real suggestions on ...      0\n",
              "4           4  You, sir, are my hero. Any chance you remember...      0\n",
              "5           5  \"\\n\\nCongratulations from me as well, use the ...      0\n",
              "6           6       COCKSUCKER BEFORE YOU PISS AROUND ON MY WORK      1\n",
              "7           7  Your vandalism to the Matt Shirvington article...      0\n",
              "8           8  Sorry if the word 'nonsense' was offensive to ...      0\n",
              "9           9  alignment on this subject and which are contra...      0"
            ]
          },
          "execution_count": 6,
          "metadata": {},
          "output_type": "execute_result"
        }
      ],
      "source": [
        "df.head(10)"
      ]
    },
    {
      "cell_type": "code",
      "execution_count": null,
      "metadata": {
        "scrolled": false,
        "id": "MC3PzxBhKZv8",
        "outputId": "0474e494-e8fb-4add-8f92-29c47519ca5a"
      },
      "outputs": [
        {
          "name": "stdout",
          "output_type": "stream",
          "text": [
            "<class 'pandas.core.frame.DataFrame'>\n",
            "RangeIndex: 159292 entries, 0 to 159291\n",
            "Data columns (total 3 columns):\n",
            " #   Column      Non-Null Count   Dtype \n",
            "---  ------      --------------   ----- \n",
            " 0   Unnamed: 0  159292 non-null  int64 \n",
            " 1   text        159292 non-null  object\n",
            " 2   toxic       159292 non-null  int64 \n",
            "dtypes: int64(2), object(1)\n",
            "memory usage: 3.6+ MB\n"
          ]
        }
      ],
      "source": [
        "df.info()"
      ]
    },
    {
      "cell_type": "code",
      "execution_count": null,
      "metadata": {
        "scrolled": true,
        "id": "mE1K0JGJKZv8",
        "outputId": "bf306d40-1701-452a-8736-facc89b1a5a4"
      },
      "outputs": [
        {
          "data": {
            "text/plain": [
              "Unnamed: 0    0\n",
              "text          0\n",
              "toxic         0\n",
              "dtype: int64"
            ]
          },
          "execution_count": 8,
          "metadata": {},
          "output_type": "execute_result"
        }
      ],
      "source": [
        "df.isna().sum()"
      ]
    },
    {
      "cell_type": "markdown",
      "metadata": {
        "id": "Tuti082QKZv8"
      },
      "source": [
        "Проверили датесет. Он оказался без пропусков и нормальными типами столбцов. Далее обработаем текстовую информацию: исключим верхний регистр, исключим небуквенные символы и проведем лемматизацию."
      ]
    },
    {
      "cell_type": "code",
      "execution_count": null,
      "metadata": {
        "scrolled": true,
        "id": "TfOmK6-nKZv8"
      },
      "outputs": [],
      "source": [
        "df['ver1'] = df['text'].apply(lambda x: x.lower())"
      ]
    },
    {
      "cell_type": "code",
      "execution_count": null,
      "metadata": {
        "id": "y9JayjVtKZv8"
      },
      "outputs": [],
      "source": [
        "def drop_simv(line):\n",
        "    # удаляем неалфавитные символы\n",
        "    text = re.sub(\"[^a-z]\", \" \", line)\n",
        "    return ' '.join(text.split())"
      ]
    },
    {
      "cell_type": "code",
      "execution_count": null,
      "metadata": {
        "scrolled": true,
        "id": "QZV8-v_pKZv9"
      },
      "outputs": [],
      "source": [
        "df['ver1'] = df['ver1'].apply(drop_simv)"
      ]
    },
    {
      "cell_type": "code",
      "execution_count": null,
      "metadata": {
        "id": "fTFbchHKKZv9"
      },
      "outputs": [],
      "source": [
        "disabled_pipes = [\"parser\",  \"ner\"]\n",
        "nlp = spacy.load('en_core_web_sm', disable=disabled_pipes)"
      ]
    },
    {
      "cell_type": "code",
      "execution_count": null,
      "metadata": {
        "colab": {
          "referenced_widgets": [
            "7c82d4e768544442a73f26a075b34fe3"
          ]
        },
        "id": "bGr_JyguKZv9",
        "outputId": "89e68346-0e10-4a8a-939d-1daee8c632d7"
      },
      "outputs": [
        {
          "data": {
            "application/vnd.jupyter.widget-view+json": {
              "model_id": "7c82d4e768544442a73f26a075b34fe3",
              "version_major": 2,
              "version_minor": 0
            },
            "text/plain": [
              "  0%|          | 0/159292 [00:00<?, ?it/s]"
            ]
          },
          "metadata": {},
          "output_type": "display_data"
        }
      ],
      "source": [
        "lemm_texts = []\n",
        "\n",
        "for doc in tqdm(nlp.pipe(df['ver1'].values, disable=['ner', 'parser']), total=df.shape[0]):\n",
        "    lemm_text = \" \".join([i.lemma_ for i in doc])\n",
        "    lemm_texts.append(lemm_text)"
      ]
    },
    {
      "cell_type": "code",
      "execution_count": null,
      "metadata": {
        "id": "Yy31gGH3KZv9"
      },
      "outputs": [],
      "source": [
        "df['lemm_text'] = lemm_texts"
      ]
    },
    {
      "cell_type": "markdown",
      "metadata": {
        "id": "ET_4foosKZv-"
      },
      "source": [
        "Лемматизация работает, можно удалить ненужные столбцы."
      ]
    },
    {
      "cell_type": "code",
      "execution_count": null,
      "metadata": {
        "scrolled": false,
        "id": "F3HzucxrKZv-",
        "outputId": "b508e474-3b1e-4da3-bff8-2c593ab974a8"
      },
      "outputs": [
        {
          "data": {
            "text/html": [
              "<div>\n",
              "<style scoped>\n",
              "    .dataframe tbody tr th:only-of-type {\n",
              "        vertical-align: middle;\n",
              "    }\n",
              "\n",
              "    .dataframe tbody tr th {\n",
              "        vertical-align: top;\n",
              "    }\n",
              "\n",
              "    .dataframe thead th {\n",
              "        text-align: right;\n",
              "    }\n",
              "</style>\n",
              "<table border=\"1\" class=\"dataframe\">\n",
              "  <thead>\n",
              "    <tr style=\"text-align: right;\">\n",
              "      <th></th>\n",
              "      <th>text</th>\n",
              "      <th>lemm_text</th>\n",
              "    </tr>\n",
              "  </thead>\n",
              "  <tbody>\n",
              "    <tr>\n",
              "      <th>0</th>\n",
              "      <td>Explanation\\nWhy the edits made under my usern...</td>\n",
              "      <td>explanation why the edit make under my usernam...</td>\n",
              "    </tr>\n",
              "    <tr>\n",
              "      <th>1</th>\n",
              "      <td>D'aww! He matches this background colour I'm s...</td>\n",
              "      <td>d aww he match this background colour I m seem...</td>\n",
              "    </tr>\n",
              "    <tr>\n",
              "      <th>2</th>\n",
              "      <td>Hey man, I'm really not trying to edit war. It...</td>\n",
              "      <td>hey man I m really not try to edit war it s ju...</td>\n",
              "    </tr>\n",
              "    <tr>\n",
              "      <th>3</th>\n",
              "      <td>\"\\nMore\\nI can't make any real suggestions on ...</td>\n",
              "      <td>more I can t make any real suggestion on impro...</td>\n",
              "    </tr>\n",
              "    <tr>\n",
              "      <th>4</th>\n",
              "      <td>You, sir, are my hero. Any chance you remember...</td>\n",
              "      <td>you sir be my hero any chance you remember wha...</td>\n",
              "    </tr>\n",
              "    <tr>\n",
              "      <th>5</th>\n",
              "      <td>\"\\n\\nCongratulations from me as well, use the ...</td>\n",
              "      <td>congratulation from I as well use the tool wel...</td>\n",
              "    </tr>\n",
              "    <tr>\n",
              "      <th>6</th>\n",
              "      <td>COCKSUCKER BEFORE YOU PISS AROUND ON MY WORK</td>\n",
              "      <td>cocksucker before you piss around on my work</td>\n",
              "    </tr>\n",
              "    <tr>\n",
              "      <th>7</th>\n",
              "      <td>Your vandalism to the Matt Shirvington article...</td>\n",
              "      <td>your vandalism to the matt shirvington article...</td>\n",
              "    </tr>\n",
              "    <tr>\n",
              "      <th>8</th>\n",
              "      <td>Sorry if the word 'nonsense' was offensive to ...</td>\n",
              "      <td>sorry if the word nonsense be offensive to you...</td>\n",
              "    </tr>\n",
              "    <tr>\n",
              "      <th>9</th>\n",
              "      <td>alignment on this subject and which are contra...</td>\n",
              "      <td>alignment on this subject and which be contrar...</td>\n",
              "    </tr>\n",
              "  </tbody>\n",
              "</table>\n",
              "</div>"
            ],
            "text/plain": [
              "                                                text  \\\n",
              "0  Explanation\\nWhy the edits made under my usern...   \n",
              "1  D'aww! He matches this background colour I'm s...   \n",
              "2  Hey man, I'm really not trying to edit war. It...   \n",
              "3  \"\\nMore\\nI can't make any real suggestions on ...   \n",
              "4  You, sir, are my hero. Any chance you remember...   \n",
              "5  \"\\n\\nCongratulations from me as well, use the ...   \n",
              "6       COCKSUCKER BEFORE YOU PISS AROUND ON MY WORK   \n",
              "7  Your vandalism to the Matt Shirvington article...   \n",
              "8  Sorry if the word 'nonsense' was offensive to ...   \n",
              "9  alignment on this subject and which are contra...   \n",
              "\n",
              "                                           lemm_text  \n",
              "0  explanation why the edit make under my usernam...  \n",
              "1  d aww he match this background colour I m seem...  \n",
              "2  hey man I m really not try to edit war it s ju...  \n",
              "3  more I can t make any real suggestion on impro...  \n",
              "4  you sir be my hero any chance you remember wha...  \n",
              "5  congratulation from I as well use the tool wel...  \n",
              "6       cocksucker before you piss around on my work  \n",
              "7  your vandalism to the matt shirvington article...  \n",
              "8  sorry if the word nonsense be offensive to you...  \n",
              "9  alignment on this subject and which be contrar...  "
            ]
          },
          "execution_count": 15,
          "metadata": {},
          "output_type": "execute_result"
        }
      ],
      "source": [
        "df[['text', 'lemm_text']].head(10)"
      ]
    },
    {
      "cell_type": "code",
      "execution_count": null,
      "metadata": {
        "scrolled": true,
        "id": "YbzLTl5qKZv-"
      },
      "outputs": [],
      "source": [
        "df = df.drop(['Unnamed: 0', 'text', 'ver1'], axis=1)"
      ]
    },
    {
      "cell_type": "code",
      "execution_count": null,
      "metadata": {
        "id": "SxLldV-2KZv-",
        "outputId": "a6c39da5-dc55-4cde-b8a4-dfc2c756311a"
      },
      "outputs": [
        {
          "data": {
            "text/html": [
              "<div>\n",
              "<style scoped>\n",
              "    .dataframe tbody tr th:only-of-type {\n",
              "        vertical-align: middle;\n",
              "    }\n",
              "\n",
              "    .dataframe tbody tr th {\n",
              "        vertical-align: top;\n",
              "    }\n",
              "\n",
              "    .dataframe thead th {\n",
              "        text-align: right;\n",
              "    }\n",
              "</style>\n",
              "<table border=\"1\" class=\"dataframe\">\n",
              "  <thead>\n",
              "    <tr style=\"text-align: right;\">\n",
              "      <th></th>\n",
              "      <th>toxic</th>\n",
              "      <th>lemm_text</th>\n",
              "    </tr>\n",
              "  </thead>\n",
              "  <tbody>\n",
              "    <tr>\n",
              "      <th>0</th>\n",
              "      <td>0</td>\n",
              "      <td>explanation why the edit make under my usernam...</td>\n",
              "    </tr>\n",
              "    <tr>\n",
              "      <th>1</th>\n",
              "      <td>0</td>\n",
              "      <td>d aww he match this background colour I m seem...</td>\n",
              "    </tr>\n",
              "    <tr>\n",
              "      <th>2</th>\n",
              "      <td>0</td>\n",
              "      <td>hey man I m really not try to edit war it s ju...</td>\n",
              "    </tr>\n",
              "    <tr>\n",
              "      <th>3</th>\n",
              "      <td>0</td>\n",
              "      <td>more I can t make any real suggestion on impro...</td>\n",
              "    </tr>\n",
              "    <tr>\n",
              "      <th>4</th>\n",
              "      <td>0</td>\n",
              "      <td>you sir be my hero any chance you remember wha...</td>\n",
              "    </tr>\n",
              "  </tbody>\n",
              "</table>\n",
              "</div>"
            ],
            "text/plain": [
              "   toxic                                          lemm_text\n",
              "0      0  explanation why the edit make under my usernam...\n",
              "1      0  d aww he match this background colour I m seem...\n",
              "2      0  hey man I m really not try to edit war it s ju...\n",
              "3      0  more I can t make any real suggestion on impro...\n",
              "4      0  you sir be my hero any chance you remember wha..."
            ]
          },
          "execution_count": 17,
          "metadata": {},
          "output_type": "execute_result"
        }
      ],
      "source": [
        "df.head()"
      ]
    },
    {
      "cell_type": "code",
      "execution_count": null,
      "metadata": {
        "id": "JbhbUXMMKZv-",
        "outputId": "b0551869-f6d6-460f-9d34-da2fa0012bda"
      },
      "outputs": [
        {
          "data": {
            "text/plain": [
              "1316"
            ]
          },
          "execution_count": 18,
          "metadata": {},
          "output_type": "execute_result"
        }
      ],
      "source": [
        "df.duplicated().sum()"
      ]
    },
    {
      "cell_type": "code",
      "execution_count": null,
      "metadata": {
        "id": "j1dSX0HYKZv-"
      },
      "outputs": [],
      "source": [
        "df = df.drop_duplicates() # удяляем дубликаты, они не помогут работе моделей"
      ]
    },
    {
      "cell_type": "code",
      "execution_count": null,
      "metadata": {
        "id": "rqT5Nap1KZv-",
        "outputId": "19fbe89d-a9c0-4b70-b91a-12e13e3ff795"
      },
      "outputs": [
        {
          "data": {
            "text/html": [
              "<div>\n",
              "<style scoped>\n",
              "    .dataframe tbody tr th:only-of-type {\n",
              "        vertical-align: middle;\n",
              "    }\n",
              "\n",
              "    .dataframe tbody tr th {\n",
              "        vertical-align: top;\n",
              "    }\n",
              "\n",
              "    .dataframe thead th {\n",
              "        text-align: right;\n",
              "    }\n",
              "</style>\n",
              "<table border=\"1\" class=\"dataframe\">\n",
              "  <thead>\n",
              "    <tr style=\"text-align: right;\">\n",
              "      <th></th>\n",
              "      <th>toxic</th>\n",
              "      <th>lemm_text</th>\n",
              "    </tr>\n",
              "  </thead>\n",
              "  <tbody>\n",
              "    <tr>\n",
              "      <th>0</th>\n",
              "      <td>0</td>\n",
              "      <td>explanation why the edit make under my usernam...</td>\n",
              "    </tr>\n",
              "    <tr>\n",
              "      <th>1</th>\n",
              "      <td>0</td>\n",
              "      <td>d aww he match this background colour I m seem...</td>\n",
              "    </tr>\n",
              "    <tr>\n",
              "      <th>2</th>\n",
              "      <td>0</td>\n",
              "      <td>hey man I m really not try to edit war it s ju...</td>\n",
              "    </tr>\n",
              "    <tr>\n",
              "      <th>3</th>\n",
              "      <td>0</td>\n",
              "      <td>more I can t make any real suggestion on impro...</td>\n",
              "    </tr>\n",
              "    <tr>\n",
              "      <th>4</th>\n",
              "      <td>0</td>\n",
              "      <td>you sir be my hero any chance you remember wha...</td>\n",
              "    </tr>\n",
              "  </tbody>\n",
              "</table>\n",
              "</div>"
            ],
            "text/plain": [
              "   toxic                                          lemm_text\n",
              "0      0  explanation why the edit make under my usernam...\n",
              "1      0  d aww he match this background colour I m seem...\n",
              "2      0  hey man I m really not try to edit war it s ju...\n",
              "3      0  more I can t make any real suggestion on impro...\n",
              "4      0  you sir be my hero any chance you remember wha..."
            ]
          },
          "execution_count": 20,
          "metadata": {},
          "output_type": "execute_result"
        }
      ],
      "source": [
        "df.head()"
      ]
    },
    {
      "cell_type": "code",
      "execution_count": null,
      "metadata": {
        "scrolled": true,
        "id": "7osNPwmtKZv-",
        "outputId": "04c8301b-d0ae-4148-94f3-759b7f1a9a4c"
      },
      "outputs": [
        {
          "data": {
            "image/png": "[encoded data removed]",
            "text/plain": [
              "<Figure size 432x288 with 1 Axes>"
            ]
          },
          "metadata": {
            "needs_background": "light"
          },
          "output_type": "display_data"
        }
      ],
      "source": [
        "df.pivot_table(index = 'toxic', values = 'lemm_text', aggfunc = 'count').plot(kind = 'bar')\n",
        "plt.title('Токсичность')\n",
        "plt.xlabel('Оценка')\n",
        "plt.ylabel('Количество')\n",
        "plt.show()"
      ]
    },
    {
      "cell_type": "markdown",
      "metadata": {
        "id": "EBCmtFt_KZv-"
      },
      "source": [
        "Вывод по 1 части\n",
        "На данном этапе был просмотрене датафрейм. Столбец с комментариями был проведен в лемматизированный вид, удалены лишные символы и дубликаты. Целевой признак несогласован, комментариев без токсичности в несколько раз больше.   "
      ]
    },
    {
      "cell_type": "markdown",
      "metadata": {
        "id": "k2G9oH-0KZv_"
      },
      "source": [
        "## Обучение"
      ]
    },
    {
      "cell_type": "code",
      "execution_count": null,
      "metadata": {
        "id": "nbM1r2rOKZv_"
      },
      "outputs": [],
      "source": [
        "X_train, X_test, y_train, y_test = train_test_split(\n",
        "        df['lemm_text'],\n",
        "        df['toxic'],\n",
        "        shuffle=False,\n",
        "        test_size=TEST_SIZE,\n",
        "        random_state=RANDOM_STATE)"
      ]
    },
    {
      "cell_type": "code",
      "execution_count": null,
      "metadata": {
        "scrolled": true,
        "id": "ESybJysAKZv_",
        "outputId": "e92b2619-e9ec-4422-8d4d-f7a42be3aba2"
      },
      "outputs": [
        {
          "name": "stdout",
          "output_type": "stream",
          "text": [
            "(142178,) - размер данных для тренировки\n"
          ]
        }
      ],
      "source": [
        "print(X_train.shape, '- размер данных для тренировки')"
      ]
    },
    {
      "cell_type": "code",
      "execution_count": null,
      "metadata": {
        "id": "YW9WIIEfKZv_",
        "outputId": "04cabdc1-dd92-4db5-a190-404096058606"
      },
      "outputs": [
        {
          "name": "stdout",
          "output_type": "stream",
          "text": [
            "(15798,) - размер данных для теста\n"
          ]
        }
      ],
      "source": [
        "print(X_test.shape, '- размер данных для теста')"
      ]
    },
    {
      "cell_type": "code",
      "execution_count": null,
      "metadata": {
        "id": "uY8m2WrfKZv_"
      },
      "outputs": [],
      "source": [
        "pipe_tree = Pipeline([\n",
        "    ('preprocessor', TfidfVectorizer()),\n",
        "    ('models',  LogisticRegression())\n",
        "])"
      ]
    },
    {
      "cell_type": "code",
      "execution_count": null,
      "metadata": {
        "scrolled": true,
        "id": "joS2vO4bKZv_"
      },
      "outputs": [],
      "source": [
        "param_grid = [\n",
        "    {\n",
        "        'models':  [LogisticRegression(random_state=RANDOM_STATE, max_iter=1000, solver='liblinear')],\n",
        "        'models__C': range(5, 7)\n",
        "    },\n",
        "    {\n",
        "        'models': [DecisionTreeClassifier(random_state=RANDOM_STATE)],\n",
        "        'models__max_depth': range(9, 10),\n",
        "        'models__max_leaf_nodes': range(10, 12),\n",
        "    },\n",
        "    {\n",
        "        'models': [KNeighborsClassifier()],\n",
        "    }\n",
        "]"
      ]
    },
    {
      "cell_type": "code",
      "execution_count": null,
      "metadata": {
        "id": "7njdEzwDKZwA"
      },
      "outputs": [],
      "source": [
        "search = GridSearchCV(\n",
        "    pipe_tree,\n",
        "    param_grid,\n",
        "    cv=3,\n",
        "    scoring='f1',\n",
        "    verbose=10\n",
        ")"
      ]
    },
    {
      "cell_type": "code",
      "execution_count": null,
      "metadata": {
        "scrolled": true,
        "id": "oXP9ub03KZwA",
        "outputId": "465d63fc-08b3-418f-e749-31ecc7534f9d"
      },
      "outputs": [
        {
          "name": "stdout",
          "output_type": "stream",
          "text": [
            "Fitting 3 folds for each of 5 candidates, totalling 15 fits\n",
            "[CV 1/3; 1/5] START models=LogisticRegression(max_iter=1000, random_state=42, solver='liblinear'), models__C=5\n",
            "[CV 1/3; 1/5] END models=LogisticRegression(max_iter=1000, random_state=42, solver='liblinear'), models__C=5; total time=  22.3s\n",
            "[CV 2/3; 1/5] START models=LogisticRegression(max_iter=1000, random_state=42, solver='liblinear'), models__C=5\n",
            "[CV 2/3; 1/5] END models=LogisticRegression(max_iter=1000, random_state=42, solver='liblinear'), models__C=5; total time=  21.5s\n",
            "[CV 3/3; 1/5] START models=LogisticRegression(max_iter=1000, random_state=42, solver='liblinear'), models__C=5\n",
            "[CV 3/3; 1/5] END models=LogisticRegression(max_iter=1000, random_state=42, solver='liblinear'), models__C=5; total time=  19.5s\n",
            "[CV 1/3; 2/5] START models=LogisticRegression(max_iter=1000, random_state=42, solver='liblinear'), models__C=6\n",
            "[CV 1/3; 2/5] END models=LogisticRegression(max_iter=1000, random_state=42, solver='liblinear'), models__C=6; total time=  20.5s\n",
            "[CV 2/3; 2/5] START models=LogisticRegression(max_iter=1000, random_state=42, solver='liblinear'), models__C=6\n",
            "[CV 2/3; 2/5] END models=LogisticRegression(max_iter=1000, random_state=42, solver='liblinear'), models__C=6; total time=  20.6s\n",
            "[CV 3/3; 2/5] START models=LogisticRegression(max_iter=1000, random_state=42, solver='liblinear'), models__C=6\n",
            "[CV 3/3; 2/5] END models=LogisticRegression(max_iter=1000, random_state=42, solver='liblinear'), models__C=6; total time=  21.0s\n",
            "[CV 1/3; 3/5] START models=DecisionTreeClassifier(random_state=42), models__max_depth=9, models__max_leaf_nodes=10\n",
            "[CV 1/3; 3/5] END models=DecisionTreeClassifier(random_state=42), models__max_depth=9, models__max_leaf_nodes=10; total time=  10.7s\n",
            "[CV 2/3; 3/5] START models=DecisionTreeClassifier(random_state=42), models__max_depth=9, models__max_leaf_nodes=10\n",
            "[CV 2/3; 3/5] END models=DecisionTreeClassifier(random_state=42), models__max_depth=9, models__max_leaf_nodes=10; total time=  10.8s\n",
            "[CV 3/3; 3/5] START models=DecisionTreeClassifier(random_state=42), models__max_depth=9, models__max_leaf_nodes=10\n",
            "[CV 3/3; 3/5] END models=DecisionTreeClassifier(random_state=42), models__max_depth=9, models__max_leaf_nodes=10; total time=  10.7s\n",
            "[CV 1/3; 4/5] START models=DecisionTreeClassifier(random_state=42), models__max_depth=9, models__max_leaf_nodes=11\n",
            "[CV 1/3; 4/5] END models=DecisionTreeClassifier(random_state=42), models__max_depth=9, models__max_leaf_nodes=11; total time=  10.6s\n",
            "[CV 2/3; 4/5] START models=DecisionTreeClassifier(random_state=42), models__max_depth=9, models__max_leaf_nodes=11\n",
            "[CV 2/3; 4/5] END models=DecisionTreeClassifier(random_state=42), models__max_depth=9, models__max_leaf_nodes=11; total time=  10.5s\n",
            "[CV 3/3; 4/5] START models=DecisionTreeClassifier(random_state=42), models__max_depth=9, models__max_leaf_nodes=11\n",
            "[CV 3/3; 4/5] END models=DecisionTreeClassifier(random_state=42), models__max_depth=9, models__max_leaf_nodes=11; total time=  10.7s\n",
            "[CV 1/3; 5/5] START models=KNeighborsClassifier()...............................\n",
            "[CV 1/3; 5/5] END .............models=KNeighborsClassifier(); total time= 4.5min\n",
            "[CV 2/3; 5/5] START models=KNeighborsClassifier()...............................\n",
            "[CV 2/3; 5/5] END .............models=KNeighborsClassifier(); total time= 4.3min\n",
            "[CV 3/3; 5/5] START models=KNeighborsClassifier()...............................\n",
            "[CV 3/3; 5/5] END .............models=KNeighborsClassifier(); total time= 4.6min\n",
            "Лучшая модель и её параметры:\n",
            "\n",
            " {'models': LogisticRegression(C=6, max_iter=1000, random_state=42, solver='liblinear'), 'models__C': 6}\n",
            "Метрика лучшей модели на кросс-валидации : 0.7789985392838346\n"
          ]
        }
      ],
      "source": [
        "search.fit(X_train, y_train)\n",
        "\n",
        "print('Лучшая модель и её параметры:\\n\\n', search.best_params_)\n",
        "print('Метрика лучшей модели на кросс-валидации :', search.best_score_)"
      ]
    },
    {
      "cell_type": "code",
      "execution_count": null,
      "metadata": {
        "scrolled": false,
        "id": "9MYRQD6XKZwA",
        "outputId": "1d2a1955-ab1e-4bcb-e197-88db8bd7ce95"
      },
      "outputs": [
        {
          "data": {
            "text/html": [
              "<div>\n",
              "<style scoped>\n",
              "    .dataframe tbody tr th:only-of-type {\n",
              "        vertical-align: middle;\n",
              "    }\n",
              "\n",
              "    .dataframe tbody tr th {\n",
              "        vertical-align: top;\n",
              "    }\n",
              "\n",
              "    .dataframe thead th {\n",
              "        text-align: right;\n",
              "    }\n",
              "</style>\n",
              "<table border=\"1\" class=\"dataframe\">\n",
              "  <thead>\n",
              "    <tr style=\"text-align: right;\">\n",
              "      <th></th>\n",
              "      <th>mean_fit_time</th>\n",
              "      <th>std_fit_time</th>\n",
              "      <th>mean_score_time</th>\n",
              "      <th>std_score_time</th>\n",
              "      <th>param_models</th>\n",
              "      <th>param_models__C</th>\n",
              "      <th>param_models__max_depth</th>\n",
              "      <th>param_models__max_leaf_nodes</th>\n",
              "      <th>params</th>\n",
              "      <th>split0_test_score</th>\n",
              "      <th>split1_test_score</th>\n",
              "      <th>split2_test_score</th>\n",
              "      <th>mean_test_score</th>\n",
              "      <th>std_test_score</th>\n",
              "      <th>rank_test_score</th>\n",
              "    </tr>\n",
              "  </thead>\n",
              "  <tbody>\n",
              "    <tr>\n",
              "      <th>0</th>\n",
              "      <td>19.142900</td>\n",
              "      <td>1.152415</td>\n",
              "      <td>1.975069</td>\n",
              "      <td>0.029310</td>\n",
              "      <td>LogisticRegression(C=6, max_iter=1000, random_...</td>\n",
              "      <td>5</td>\n",
              "      <td>NaN</td>\n",
              "      <td>NaN</td>\n",
              "      <td>{'models': LogisticRegression(C=6, max_iter=10...</td>\n",
              "      <td>0.782783</td>\n",
              "      <td>0.773071</td>\n",
              "      <td>0.775770</td>\n",
              "      <td>0.777208</td>\n",
              "      <td>0.004093</td>\n",
              "      <td>2</td>\n",
              "    </tr>\n",
              "    <tr>\n",
              "      <th>1</th>\n",
              "      <td>18.671027</td>\n",
              "      <td>0.227695</td>\n",
              "      <td>2.001954</td>\n",
              "      <td>0.009602</td>\n",
              "      <td>LogisticRegression(C=6, max_iter=1000, random_...</td>\n",
              "      <td>6</td>\n",
              "      <td>NaN</td>\n",
              "      <td>NaN</td>\n",
              "      <td>{'models': LogisticRegression(C=6, max_iter=10...</td>\n",
              "      <td>0.783341</td>\n",
              "      <td>0.774452</td>\n",
              "      <td>0.779202</td>\n",
              "      <td>0.778999</td>\n",
              "      <td>0.003632</td>\n",
              "      <td>1</td>\n",
              "    </tr>\n",
              "    <tr>\n",
              "      <th>2</th>\n",
              "      <td>8.683424</td>\n",
              "      <td>0.041563</td>\n",
              "      <td>2.035939</td>\n",
              "      <td>0.025858</td>\n",
              "      <td>DecisionTreeClassifier(random_state=42)</td>\n",
              "      <td>NaN</td>\n",
              "      <td>9</td>\n",
              "      <td>10</td>\n",
              "      <td>{'models': DecisionTreeClassifier(random_state...</td>\n",
              "      <td>0.604562</td>\n",
              "      <td>0.601264</td>\n",
              "      <td>0.608837</td>\n",
              "      <td>0.604888</td>\n",
              "      <td>0.003100</td>\n",
              "      <td>3</td>\n",
              "    </tr>\n",
              "    <tr>\n",
              "      <th>3</th>\n",
              "      <td>8.606146</td>\n",
              "      <td>0.071652</td>\n",
              "      <td>1.990264</td>\n",
              "      <td>0.017863</td>\n",
              "      <td>DecisionTreeClassifier(random_state=42)</td>\n",
              "      <td>NaN</td>\n",
              "      <td>9</td>\n",
              "      <td>11</td>\n",
              "      <td>{'models': DecisionTreeClassifier(random_state...</td>\n",
              "      <td>0.600445</td>\n",
              "      <td>0.591280</td>\n",
              "      <td>0.605358</td>\n",
              "      <td>0.599027</td>\n",
              "      <td>0.005834</td>\n",
              "      <td>4</td>\n",
              "    </tr>\n",
              "    <tr>\n",
              "      <th>4</th>\n",
              "      <td>4.144716</td>\n",
              "      <td>0.039167</td>\n",
              "      <td>263.296998</td>\n",
              "      <td>5.763241</td>\n",
              "      <td>KNeighborsClassifier()</td>\n",
              "      <td>NaN</td>\n",
              "      <td>NaN</td>\n",
              "      <td>NaN</td>\n",
              "      <td>{'models': KNeighborsClassifier()}</td>\n",
              "      <td>0.198563</td>\n",
              "      <td>0.201197</td>\n",
              "      <td>0.199601</td>\n",
              "      <td>0.199787</td>\n",
              "      <td>0.001083</td>\n",
              "      <td>5</td>\n",
              "    </tr>\n",
              "  </tbody>\n",
              "</table>\n",
              "</div>"
            ],
            "text/plain": [
              "   mean_fit_time  std_fit_time  mean_score_time  std_score_time  \\\n",
              "0      19.142900      1.152415         1.975069        0.029310   \n",
              "1      18.671027      0.227695         2.001954        0.009602   \n",
              "2       8.683424      0.041563         2.035939        0.025858   \n",
              "3       8.606146      0.071652         1.990264        0.017863   \n",
              "4       4.144716      0.039167       263.296998        5.763241   \n",
              "\n",
              "                                        param_models param_models__C  \\\n",
              "0  LogisticRegression(C=6, max_iter=1000, random_...               5   \n",
              "1  LogisticRegression(C=6, max_iter=1000, random_...               6   \n",
              "2            DecisionTreeClassifier(random_state=42)             NaN   \n",
              "3            DecisionTreeClassifier(random_state=42)             NaN   \n",
              "4                             KNeighborsClassifier()             NaN   \n",
              "\n",
              "  param_models__max_depth param_models__max_leaf_nodes  \\\n",
              "0                     NaN                          NaN   \n",
              "1                     NaN                          NaN   \n",
              "2                       9                           10   \n",
              "3                       9                           11   \n",
              "4                     NaN                          NaN   \n",
              "\n",
              "                                              params  split0_test_score  \\\n",
              "0  {'models': LogisticRegression(C=6, max_iter=10...           0.782783   \n",
              "1  {'models': LogisticRegression(C=6, max_iter=10...           0.783341   \n",
              "2  {'models': DecisionTreeClassifier(random_state...           0.604562   \n",
              "3  {'models': DecisionTreeClassifier(random_state...           0.600445   \n",
              "4                 {'models': KNeighborsClassifier()}           0.198563   \n",
              "\n",
              "   split1_test_score  split2_test_score  mean_test_score  std_test_score  \\\n",
              "0           0.773071           0.775770         0.777208        0.004093   \n",
              "1           0.774452           0.779202         0.778999        0.003632   \n",
              "2           0.601264           0.608837         0.604888        0.003100   \n",
              "3           0.591280           0.605358         0.599027        0.005834   \n",
              "4           0.201197           0.199601         0.199787        0.001083   \n",
              "\n",
              "   rank_test_score  \n",
              "0                2  \n",
              "1                1  \n",
              "2                3  \n",
              "3                4  \n",
              "4                5  "
            ]
          },
          "execution_count": 30,
          "metadata": {},
          "output_type": "execute_result"
        }
      ],
      "source": [
        "result = pd.DataFrame(search.cv_results_)\n",
        "result"
      ]
    },
    {
      "cell_type": "code",
      "execution_count": null,
      "metadata": {
        "scrolled": true,
        "id": "zzyaAwZZKZwA",
        "outputId": "2aa85882-93eb-4c74-d3d0-497be0ea411e"
      },
      "outputs": [
        {
          "name": "stdout",
          "output_type": "stream",
          "text": [
            "Лучшая модель и её параметры:\n",
            "\n",
            " {'models': LogisticRegression(C=6, max_iter=1000, random_state=42, solver='liblinear'), 'models__C': 6}\n",
            "Метрика лучшей модели на кросс-валидации: 0.7789985392838346\n"
          ]
        }
      ],
      "source": [
        "print('Лучшая модель и её параметры:\\n\\n', search.best_params_)\n",
        "print('Метрика лучшей модели на кросс-валидации:', search.best_score_)"
      ]
    },
    {
      "cell_type": "code",
      "execution_count": null,
      "metadata": {
        "id": "1esXQhGSKZwA"
      },
      "outputs": [],
      "source": [
        "y_pred = search.predict(X_test)"
      ]
    },
    {
      "cell_type": "code",
      "execution_count": null,
      "metadata": {
        "scrolled": false,
        "id": "Cf7ScQIGKZwA",
        "outputId": "a53e5381-23f7-4256-9ce0-1e59aade6601"
      },
      "outputs": [
        {
          "name": "stdout",
          "output_type": "stream",
          "text": [
            "f1 на тестовой выборке: 0.7813471502590674\n"
          ]
        }
      ],
      "source": [
        "print('f1 на тестовой выборке:', f1_score(y_true=y_test, y_pred=y_pred))"
      ]
    },
    {
      "cell_type": "markdown",
      "metadata": {
        "id": "X74e0JmYKZwA"
      },
      "source": [
        "## Выводы"
      ]
    },
    {
      "cell_type": "markdown",
      "metadata": {
        "id": "82ID0W6rKZwA"
      },
      "source": [
        "В данном проeкте был разобран датасет с  разметкой о токсичности фраз. В процессе работы была проведена обработка текста, были исключены все небуквенные символы, проведена лемматизация. При обучении моделей машинного обучения лучше всего себя показала модель логической регрессии. На тестовой выборке ее метрика 0.78. Данная модель с неплохим качеством позволяет искать токсичные комментирии и отправлять их на модерацию.  "
      ]
    }
  ],
  "metadata": {
    "ExecuteTimeLog": [
      {
        "duration": 6217,
        "start_time": "2024-01-27T16:38:47.081Z"
      },
      {
        "duration": 84,
        "start_time": "2024-01-27T16:39:23.900Z"
      },
      {
        "duration": 12299,
        "start_time": "2024-01-27T16:40:12.982Z"
      },
      {
        "duration": 11,
        "start_time": "2024-01-27T16:40:42.881Z"
      },
      {
        "duration": 117,
        "start_time": "2024-01-27T16:41:41.781Z"
      },
      {
        "duration": 5095,
        "start_time": "2024-01-27T16:42:36.085Z"
      },
      {
        "duration": 4896,
        "start_time": "2024-01-27T16:42:41.183Z"
      },
      {
        "duration": 98,
        "start_time": "2024-01-27T16:42:46.082Z"
      },
      {
        "duration": 201,
        "start_time": "2024-01-27T16:42:46.184Z"
      },
      {
        "duration": 13,
        "start_time": "2024-01-27T16:44:02.882Z"
      },
      {
        "duration": 100,
        "start_time": "2024-01-27T16:44:52.181Z"
      },
      {
        "duration": 1284,
        "start_time": "2024-02-19T14:37:42.857Z"
      },
      {
        "duration": 2291,
        "start_time": "2024-02-19T14:37:53.391Z"
      },
      {
        "duration": 11,
        "start_time": "2024-02-19T14:37:57.876Z"
      },
      {
        "duration": 26,
        "start_time": "2024-02-19T14:39:44.957Z"
      },
      {
        "duration": 102,
        "start_time": "2024-02-19T14:48:36.199Z"
      },
      {
        "duration": 16,
        "start_time": "2024-02-19T14:48:56.378Z"
      },
      {
        "duration": 8,
        "start_time": "2024-02-19T14:49:30.932Z"
      },
      {
        "duration": 271,
        "start_time": "2024-02-19T14:49:41.783Z"
      },
      {
        "duration": 7,
        "start_time": "2024-02-19T14:49:50.970Z"
      },
      {
        "duration": 24,
        "start_time": "2024-02-19T14:51:18.180Z"
      },
      {
        "duration": 4,
        "start_time": "2024-02-19T14:52:21.528Z"
      },
      {
        "duration": 9,
        "start_time": "2024-02-19T14:56:17.887Z"
      },
      {
        "duration": 1154,
        "start_time": "2024-02-19T14:56:58.349Z"
      },
      {
        "duration": 2238,
        "start_time": "2024-02-19T14:57:02.203Z"
      },
      {
        "duration": 10,
        "start_time": "2024-02-19T14:57:06.676Z"
      },
      {
        "duration": 26,
        "start_time": "2024-02-19T14:57:11.735Z"
      },
      {
        "duration": 221,
        "start_time": "2024-02-19T14:57:15.332Z"
      },
      {
        "duration": 45,
        "start_time": "2024-02-19T14:57:40.716Z"
      },
      {
        "duration": 1202,
        "start_time": "2024-02-19T14:57:48.998Z"
      },
      {
        "duration": 2268,
        "start_time": "2024-02-19T14:57:51.856Z"
      },
      {
        "duration": 230,
        "start_time": "2024-02-19T14:58:04.753Z"
      },
      {
        "duration": 5095,
        "start_time": "2024-02-20T13:57:42.964Z"
      },
      {
        "duration": 2227,
        "start_time": "2024-02-20T13:58:00.916Z"
      },
      {
        "duration": 11,
        "start_time": "2024-02-20T13:58:06.327Z"
      },
      {
        "duration": 33,
        "start_time": "2024-02-20T13:58:15.125Z"
      },
      {
        "duration": 23,
        "start_time": "2024-02-20T13:58:20.194Z"
      },
      {
        "duration": 225,
        "start_time": "2024-02-20T13:58:38.704Z"
      },
      {
        "duration": 3,
        "start_time": "2024-02-20T14:00:09.942Z"
      },
      {
        "duration": 1797,
        "start_time": "2024-02-20T14:00:12.312Z"
      },
      {
        "duration": 4486,
        "start_time": "2024-02-20T14:00:49.213Z"
      },
      {
        "duration": 813,
        "start_time": "2024-02-20T14:01:00.862Z"
      },
      {
        "duration": 12,
        "start_time": "2024-02-20T14:01:04.388Z"
      },
      {
        "duration": 34,
        "start_time": "2024-02-20T14:01:08.924Z"
      },
      {
        "duration": 25,
        "start_time": "2024-02-20T14:01:11.288Z"
      },
      {
        "duration": 201,
        "start_time": "2024-02-20T14:01:24.446Z"
      },
      {
        "duration": 3,
        "start_time": "2024-02-20T14:01:29.858Z"
      },
      {
        "duration": 3882,
        "start_time": "2024-02-20T14:01:32.503Z"
      },
      {
        "duration": 390,
        "start_time": "2024-02-20T14:01:39.989Z"
      },
      {
        "duration": 2,
        "start_time": "2024-02-20T14:01:45.872Z"
      },
      {
        "duration": 484,
        "start_time": "2024-02-20T14:35:43.734Z"
      },
      {
        "duration": 857,
        "start_time": "2024-02-20T14:36:03.042Z"
      },
      {
        "duration": 8,
        "start_time": "2024-02-20T14:36:12.491Z"
      },
      {
        "duration": 196,
        "start_time": "2024-02-20T14:36:23.717Z"
      },
      {
        "duration": 2,
        "start_time": "2024-02-20T14:36:29.980Z"
      },
      {
        "duration": 4253,
        "start_time": "2024-02-20T14:36:40.984Z"
      },
      {
        "duration": 75,
        "start_time": "2024-02-20T14:37:52.745Z"
      },
      {
        "duration": 70,
        "start_time": "2024-02-20T14:38:11.945Z"
      },
      {
        "duration": 3,
        "start_time": "2024-02-20T14:41:21.969Z"
      },
      {
        "duration": 433,
        "start_time": "2024-02-20T14:41:26.481Z"
      },
      {
        "duration": 3,
        "start_time": "2024-02-20T14:41:31.362Z"
      },
      {
        "duration": 2149331,
        "start_time": "2024-02-20T14:41:54.029Z"
      },
      {
        "duration": 9,
        "start_time": "2024-02-20T15:18:18.239Z"
      },
      {
        "duration": 309,
        "start_time": "2024-02-20T15:22:16.250Z"
      },
      {
        "duration": 26,
        "start_time": "2024-02-20T15:22:53.682Z"
      },
      {
        "duration": 20,
        "start_time": "2024-02-20T15:22:57.488Z"
      },
      {
        "duration": 6,
        "start_time": "2024-02-20T15:23:21.638Z"
      },
      {
        "duration": 167,
        "start_time": "2024-02-20T15:24:43.643Z"
      },
      {
        "duration": 131,
        "start_time": "2024-02-20T15:25:40.397Z"
      },
      {
        "duration": 143,
        "start_time": "2024-02-20T15:28:00.175Z"
      },
      {
        "duration": 142,
        "start_time": "2024-02-20T15:28:36.686Z"
      },
      {
        "duration": 27,
        "start_time": "2024-02-20T15:30:04.756Z"
      },
      {
        "duration": 173,
        "start_time": "2024-02-20T15:31:12.171Z"
      },
      {
        "duration": 176,
        "start_time": "2024-02-20T15:33:14.497Z"
      },
      {
        "duration": 132,
        "start_time": "2024-02-20T15:33:18.596Z"
      },
      {
        "duration": 925,
        "start_time": "2024-02-20T16:04:02.315Z"
      },
      {
        "duration": 3,
        "start_time": "2024-02-20T16:05:53.603Z"
      },
      {
        "duration": 87,
        "start_time": "2024-02-20T16:12:01.318Z"
      },
      {
        "duration": 18,
        "start_time": "2024-02-20T16:12:34.049Z"
      },
      {
        "duration": 2,
        "start_time": "2024-02-20T16:13:21.014Z"
      },
      {
        "duration": 19,
        "start_time": "2024-02-20T16:13:23.978Z"
      },
      {
        "duration": 18,
        "start_time": "2024-02-20T16:13:43.516Z"
      },
      {
        "duration": 4,
        "start_time": "2024-02-20T16:14:07.069Z"
      },
      {
        "duration": 86,
        "start_time": "2024-02-20T16:15:37.868Z"
      },
      {
        "duration": 3,
        "start_time": "2024-02-20T16:15:44.179Z"
      },
      {
        "duration": 4,
        "start_time": "2024-02-20T16:16:19.432Z"
      },
      {
        "duration": 16,
        "start_time": "2024-02-20T16:16:39.818Z"
      },
      {
        "duration": 4,
        "start_time": "2024-02-20T16:17:54.263Z"
      },
      {
        "duration": 3,
        "start_time": "2024-02-20T16:19:26.721Z"
      },
      {
        "duration": 3,
        "start_time": "2024-02-20T16:20:19.166Z"
      },
      {
        "duration": 3,
        "start_time": "2024-02-20T16:28:13.319Z"
      },
      {
        "duration": 2,
        "start_time": "2024-02-20T16:30:26.881Z"
      },
      {
        "duration": 7,
        "start_time": "2024-02-20T16:39:46.139Z"
      },
      {
        "duration": 21,
        "start_time": "2024-02-20T16:42:43.367Z"
      },
      {
        "duration": 26,
        "start_time": "2024-02-20T16:49:32.118Z"
      },
      {
        "duration": 3,
        "start_time": "2024-02-20T16:49:53.465Z"
      },
      {
        "duration": 20,
        "start_time": "2024-02-20T16:50:05.709Z"
      },
      {
        "duration": 17,
        "start_time": "2024-02-20T16:50:36.132Z"
      },
      {
        "duration": 4,
        "start_time": "2024-02-20T16:51:06.505Z"
      },
      {
        "duration": 3,
        "start_time": "2024-02-20T16:53:07.635Z"
      },
      {
        "duration": 17,
        "start_time": "2024-02-20T16:54:11.576Z"
      },
      {
        "duration": 4,
        "start_time": "2024-02-20T16:54:48.994Z"
      },
      {
        "duration": 3,
        "start_time": "2024-02-20T16:54:55.842Z"
      },
      {
        "duration": 60,
        "start_time": "2024-02-20T16:55:35.089Z"
      },
      {
        "duration": 3,
        "start_time": "2024-02-20T16:57:55.717Z"
      },
      {
        "duration": 3,
        "start_time": "2024-02-20T16:57:59.886Z"
      },
      {
        "duration": 56,
        "start_time": "2024-02-20T16:58:02.086Z"
      },
      {
        "duration": 3,
        "start_time": "2024-02-20T16:58:25.770Z"
      },
      {
        "duration": 46,
        "start_time": "2024-02-20T16:58:32.569Z"
      },
      {
        "duration": 2,
        "start_time": "2024-02-20T16:59:13.869Z"
      },
      {
        "duration": 3,
        "start_time": "2024-02-20T16:59:15.878Z"
      },
      {
        "duration": 3,
        "start_time": "2024-02-20T16:59:16.765Z"
      },
      {
        "duration": 52,
        "start_time": "2024-02-20T16:59:17.730Z"
      },
      {
        "duration": 3,
        "start_time": "2024-02-20T17:01:11.715Z"
      },
      {
        "duration": 3,
        "start_time": "2024-02-20T17:01:13.590Z"
      },
      {
        "duration": 3,
        "start_time": "2024-02-20T17:01:14.937Z"
      },
      {
        "duration": 43,
        "start_time": "2024-02-20T17:01:15.985Z"
      },
      {
        "duration": 2,
        "start_time": "2024-02-20T17:02:07.057Z"
      },
      {
        "duration": 4,
        "start_time": "2024-02-20T17:02:07.834Z"
      },
      {
        "duration": 2,
        "start_time": "2024-02-20T17:02:08.749Z"
      },
      {
        "duration": 43,
        "start_time": "2024-02-20T17:02:09.750Z"
      },
      {
        "duration": 3,
        "start_time": "2024-02-20T17:03:19.373Z"
      },
      {
        "duration": 4,
        "start_time": "2024-02-20T17:03:21.726Z"
      },
      {
        "duration": 2,
        "start_time": "2024-02-20T17:03:25.430Z"
      },
      {
        "duration": 44,
        "start_time": "2024-02-20T17:03:28.362Z"
      },
      {
        "duration": 4,
        "start_time": "2024-02-20T17:04:04.216Z"
      },
      {
        "duration": 3,
        "start_time": "2024-02-20T17:04:06.397Z"
      },
      {
        "duration": 53,
        "start_time": "2024-02-20T17:04:07.284Z"
      },
      {
        "duration": 3,
        "start_time": "2024-02-20T17:04:39.890Z"
      },
      {
        "duration": 2,
        "start_time": "2024-02-20T17:04:41.755Z"
      },
      {
        "duration": 44,
        "start_time": "2024-02-20T17:04:43.218Z"
      },
      {
        "duration": 3,
        "start_time": "2024-02-20T17:05:43.208Z"
      },
      {
        "duration": 17,
        "start_time": "2024-02-20T17:05:44.261Z"
      },
      {
        "duration": 3,
        "start_time": "2024-02-20T17:05:55.556Z"
      },
      {
        "duration": 2,
        "start_time": "2024-02-20T17:05:58.172Z"
      },
      {
        "duration": 47,
        "start_time": "2024-02-20T17:05:59.340Z"
      },
      {
        "duration": 3,
        "start_time": "2024-02-20T17:16:48.122Z"
      },
      {
        "duration": 3,
        "start_time": "2024-02-20T17:16:50.299Z"
      },
      {
        "duration": 3,
        "start_time": "2024-02-20T17:16:51.660Z"
      },
      {
        "duration": 44,
        "start_time": "2024-02-20T17:16:52.629Z"
      },
      {
        "duration": 4,
        "start_time": "2024-02-20T17:18:33.157Z"
      },
      {
        "duration": 5,
        "start_time": "2024-02-20T17:19:16.800Z"
      },
      {
        "duration": 71,
        "start_time": "2024-02-20T17:19:52.986Z"
      },
      {
        "duration": 101,
        "start_time": "2024-02-20T17:20:08.333Z"
      },
      {
        "duration": 98,
        "start_time": "2024-02-20T17:20:59.195Z"
      },
      {
        "duration": 3,
        "start_time": "2024-02-20T17:21:11.695Z"
      },
      {
        "duration": 5,
        "start_time": "2024-02-20T17:21:53.863Z"
      },
      {
        "duration": 3,
        "start_time": "2024-02-20T17:22:23.350Z"
      },
      {
        "duration": 5,
        "start_time": "2024-02-20T17:22:25.728Z"
      },
      {
        "duration": 2,
        "start_time": "2024-02-20T17:22:27.050Z"
      },
      {
        "duration": 47,
        "start_time": "2024-02-20T17:22:27.965Z"
      },
      {
        "duration": 8,
        "start_time": "2024-02-20T17:26:57.896Z"
      },
      {
        "duration": 3,
        "start_time": "2024-02-20T17:27:42.473Z"
      },
      {
        "duration": 43,
        "start_time": "2024-02-20T17:27:43.913Z"
      },
      {
        "duration": 4,
        "start_time": "2024-02-20T17:28:30.916Z"
      },
      {
        "duration": 3,
        "start_time": "2024-02-20T17:28:35.157Z"
      },
      {
        "duration": 2,
        "start_time": "2024-02-20T17:28:36.459Z"
      },
      {
        "duration": 40,
        "start_time": "2024-02-20T17:28:37.483Z"
      },
      {
        "duration": 4,
        "start_time": "2024-02-20T17:29:00.012Z"
      },
      {
        "duration": 4,
        "start_time": "2024-02-20T17:29:01.709Z"
      },
      {
        "duration": 3,
        "start_time": "2024-02-20T17:29:02.492Z"
      },
      {
        "duration": 43,
        "start_time": "2024-02-20T17:29:03.205Z"
      },
      {
        "duration": 3,
        "start_time": "2024-02-20T17:30:54.904Z"
      },
      {
        "duration": 4,
        "start_time": "2024-02-20T17:30:58.041Z"
      },
      {
        "duration": 3,
        "start_time": "2024-02-20T17:31:07.425Z"
      },
      {
        "duration": 1572633,
        "start_time": "2024-02-20T17:31:15.974Z"
      },
      {
        "duration": 4,
        "start_time": "2024-02-20T17:57:52.845Z"
      },
      {
        "duration": 4,
        "start_time": "2024-02-20T17:58:05.229Z"
      },
      {
        "duration": 72753,
        "start_time": "2024-02-20T17:58:08.413Z"
      },
      {
        "duration": 3,
        "start_time": "2024-02-20T17:59:35.786Z"
      },
      {
        "duration": 1145377,
        "start_time": "2024-02-20T17:59:36.957Z"
      },
      {
        "duration": 20,
        "start_time": "2024-02-20T18:21:00.942Z"
      },
      {
        "duration": 3,
        "start_time": "2024-02-20T18:21:53.081Z"
      },
      {
        "duration": 4,
        "start_time": "2024-02-20T18:22:33.259Z"
      },
      {
        "duration": 14,
        "start_time": "2024-02-20T18:22:41.547Z"
      },
      {
        "duration": 45,
        "start_time": "2024-02-20T18:22:44.559Z"
      },
      {
        "duration": 3,
        "start_time": "2024-02-20T18:23:32.751Z"
      },
      {
        "duration": 2,
        "start_time": "2024-02-20T18:23:38.584Z"
      },
      {
        "duration": 45,
        "start_time": "2024-02-20T18:23:39.765Z"
      },
      {
        "duration": 4386,
        "start_time": "2024-02-20T18:24:33.378Z"
      },
      {
        "duration": 802,
        "start_time": "2024-02-20T18:24:37.766Z"
      },
      {
        "duration": 11,
        "start_time": "2024-02-20T18:24:38.569Z"
      },
      {
        "duration": 34,
        "start_time": "2024-02-20T18:24:38.582Z"
      },
      {
        "duration": 38,
        "start_time": "2024-02-20T18:24:38.618Z"
      },
      {
        "duration": 230,
        "start_time": "2024-02-20T18:24:38.657Z"
      },
      {
        "duration": 4,
        "start_time": "2024-02-20T18:24:38.888Z"
      },
      {
        "duration": 3850,
        "start_time": "2024-02-20T18:24:38.893Z"
      },
      {
        "duration": 3,
        "start_time": "2024-02-20T18:24:42.746Z"
      },
      {
        "duration": 438,
        "start_time": "2024-02-20T18:24:42.751Z"
      },
      {
        "duration": 3,
        "start_time": "2024-02-20T18:24:43.191Z"
      },
      {
        "duration": 2074156,
        "start_time": "2024-02-20T18:24:43.195Z"
      },
      {
        "duration": 8,
        "start_time": "2024-02-20T18:59:17.353Z"
      },
      {
        "duration": 29,
        "start_time": "2024-02-20T18:59:17.362Z"
      },
      {
        "duration": 7,
        "start_time": "2024-02-20T18:59:17.392Z"
      },
      {
        "duration": 197,
        "start_time": "2024-02-20T18:59:17.400Z"
      },
      {
        "duration": 189,
        "start_time": "2024-02-20T18:59:17.598Z"
      },
      {
        "duration": 150,
        "start_time": "2024-02-20T18:59:17.789Z"
      },
      {
        "duration": 3,
        "start_time": "2024-02-20T18:59:17.940Z"
      },
      {
        "duration": 29,
        "start_time": "2024-02-20T18:59:17.944Z"
      },
      {
        "duration": 17,
        "start_time": "2024-02-20T18:59:17.974Z"
      },
      {
        "duration": 3,
        "start_time": "2024-02-20T18:59:17.993Z"
      },
      {
        "duration": 7,
        "start_time": "2024-02-20T18:59:17.997Z"
      },
      {
        "duration": 6,
        "start_time": "2024-02-20T18:59:18.006Z"
      },
      {
        "duration": 8,
        "start_time": "2024-02-20T18:59:18.032Z"
      },
      {
        "duration": 2,
        "start_time": "2024-02-20T18:59:18.042Z"
      },
      {
        "duration": 4,
        "start_time": "2024-02-20T18:59:18.045Z"
      },
      {
        "duration": 4,
        "start_time": "2024-02-20T18:59:18.052Z"
      },
      {
        "duration": 3,
        "start_time": "2024-02-20T18:59:18.057Z"
      },
      {
        "duration": 362,
        "start_time": "2024-02-20T18:59:18.062Z"
      },
      {
        "duration": 0,
        "start_time": "2024-02-20T18:59:18.426Z"
      },
      {
        "duration": 4,
        "start_time": "2024-02-20T18:59:58.751Z"
      },
      {
        "duration": 2,
        "start_time": "2024-02-20T19:00:01.999Z"
      },
      {
        "duration": 4,
        "start_time": "2024-02-20T19:00:03.778Z"
      },
      {
        "duration": 45,
        "start_time": "2024-02-20T19:00:05.113Z"
      },
      {
        "duration": 3,
        "start_time": "2024-02-20T19:00:53.923Z"
      },
      {
        "duration": 19,
        "start_time": "2024-02-20T19:00:53.937Z"
      },
      {
        "duration": 3,
        "start_time": "2024-02-20T19:00:55.107Z"
      },
      {
        "duration": 44,
        "start_time": "2024-02-20T19:00:56.212Z"
      },
      {
        "duration": 3,
        "start_time": "2024-02-20T19:01:19.184Z"
      },
      {
        "duration": 2,
        "start_time": "2024-02-20T19:01:21.016Z"
      },
      {
        "duration": 2,
        "start_time": "2024-02-20T19:01:21.902Z"
      },
      {
        "duration": 43,
        "start_time": "2024-02-21T04:43:24.304Z"
      },
      {
        "duration": 4954,
        "start_time": "2024-02-21T04:44:48.357Z"
      },
      {
        "duration": 2226,
        "start_time": "2024-02-21T04:44:53.313Z"
      },
      {
        "duration": 11,
        "start_time": "2024-02-21T04:44:55.541Z"
      },
      {
        "duration": 35,
        "start_time": "2024-02-21T04:44:55.554Z"
      },
      {
        "duration": 28,
        "start_time": "2024-02-21T04:44:55.591Z"
      },
      {
        "duration": 233,
        "start_time": "2024-02-21T04:44:55.621Z"
      },
      {
        "duration": 3,
        "start_time": "2024-02-21T04:44:55.855Z"
      },
      {
        "duration": 3966,
        "start_time": "2024-02-21T04:44:55.859Z"
      },
      {
        "duration": 3,
        "start_time": "2024-02-21T04:44:59.827Z"
      },
      {
        "duration": 404,
        "start_time": "2024-02-21T04:44:59.832Z"
      },
      {
        "duration": 2,
        "start_time": "2024-02-21T04:45:00.238Z"
      },
      {
        "duration": 2099886,
        "start_time": "2024-02-21T04:45:00.242Z"
      },
      {
        "duration": 8,
        "start_time": "2024-02-21T05:20:00.129Z"
      },
      {
        "duration": 61,
        "start_time": "2024-02-21T05:20:00.138Z"
      },
      {
        "duration": 29,
        "start_time": "2024-02-21T05:20:00.201Z"
      },
      {
        "duration": 215,
        "start_time": "2024-02-21T05:20:00.231Z"
      },
      {
        "duration": 194,
        "start_time": "2024-02-21T05:20:00.448Z"
      },
      {
        "duration": 176,
        "start_time": "2024-02-21T05:20:00.643Z"
      },
      {
        "duration": 3,
        "start_time": "2024-02-21T05:20:00.821Z"
      },
      {
        "duration": 46,
        "start_time": "2024-02-21T05:20:00.826Z"
      },
      {
        "duration": 50,
        "start_time": "2024-02-21T05:20:00.874Z"
      },
      {
        "duration": 38,
        "start_time": "2024-02-21T05:20:00.925Z"
      },
      {
        "duration": 47,
        "start_time": "2024-02-21T05:20:00.965Z"
      },
      {
        "duration": 66,
        "start_time": "2024-02-21T05:20:01.014Z"
      },
      {
        "duration": 45,
        "start_time": "2024-02-21T05:20:01.082Z"
      },
      {
        "duration": 50,
        "start_time": "2024-02-21T05:20:01.129Z"
      },
      {
        "duration": 38,
        "start_time": "2024-02-21T05:20:01.180Z"
      },
      {
        "duration": 24,
        "start_time": "2024-02-21T05:20:01.221Z"
      },
      {
        "duration": 30,
        "start_time": "2024-02-21T05:20:01.247Z"
      },
      {
        "duration": 708562,
        "start_time": "2024-02-21T05:20:01.279Z"
      },
      {
        "duration": 21,
        "start_time": "2024-02-21T05:31:49.842Z"
      },
      {
        "duration": 4,
        "start_time": "2024-02-21T05:34:12.952Z"
      },
      {
        "duration": 650,
        "start_time": "2024-02-21T05:35:33.370Z"
      },
      {
        "duration": 342,
        "start_time": "2024-02-21T05:37:54.872Z"
      },
      {
        "duration": 8,
        "start_time": "2024-02-21T05:38:12.199Z"
      },
      {
        "duration": 8,
        "start_time": "2024-02-21T05:38:38.152Z"
      },
      {
        "duration": 9,
        "start_time": "2024-02-21T06:02:14.592Z"
      },
      {
        "duration": 41,
        "start_time": "2024-02-21T06:02:14.680Z"
      },
      {
        "duration": 0,
        "start_time": "2024-02-21T06:02:14.723Z"
      },
      {
        "duration": 0,
        "start_time": "2024-02-21T06:02:14.724Z"
      },
      {
        "duration": 0,
        "start_time": "2024-02-21T06:02:14.725Z"
      },
      {
        "duration": 0,
        "start_time": "2024-02-21T06:02:14.726Z"
      },
      {
        "duration": 0,
        "start_time": "2024-02-21T06:02:14.727Z"
      },
      {
        "duration": 0,
        "start_time": "2024-02-21T06:02:14.728Z"
      },
      {
        "duration": 0,
        "start_time": "2024-02-21T06:02:14.729Z"
      },
      {
        "duration": 0,
        "start_time": "2024-02-21T06:02:14.730Z"
      },
      {
        "duration": 0,
        "start_time": "2024-02-21T06:02:14.731Z"
      },
      {
        "duration": 6,
        "start_time": "2024-02-21T06:02:14.733Z"
      },
      {
        "duration": 0,
        "start_time": "2024-02-21T06:02:14.741Z"
      },
      {
        "duration": 0,
        "start_time": "2024-02-21T06:02:14.742Z"
      },
      {
        "duration": 0,
        "start_time": "2024-02-21T06:02:14.743Z"
      },
      {
        "duration": 0,
        "start_time": "2024-02-21T06:02:14.745Z"
      },
      {
        "duration": 7,
        "start_time": "2024-02-21T06:02:14.747Z"
      },
      {
        "duration": 0,
        "start_time": "2024-02-21T06:02:14.756Z"
      },
      {
        "duration": 0,
        "start_time": "2024-02-21T06:02:14.757Z"
      },
      {
        "duration": 60,
        "start_time": "2024-02-21T06:02:14.759Z"
      },
      {
        "duration": 0,
        "start_time": "2024-02-21T06:02:14.820Z"
      },
      {
        "duration": 0,
        "start_time": "2024-02-21T06:02:14.821Z"
      },
      {
        "duration": 0,
        "start_time": "2024-02-21T06:02:14.822Z"
      },
      {
        "duration": 6,
        "start_time": "2024-02-21T06:02:14.824Z"
      },
      {
        "duration": 0,
        "start_time": "2024-02-21T06:02:14.831Z"
      },
      {
        "duration": 0,
        "start_time": "2024-02-21T06:02:14.832Z"
      },
      {
        "duration": 0,
        "start_time": "2024-02-21T06:02:14.833Z"
      },
      {
        "duration": 0,
        "start_time": "2024-02-21T06:02:14.835Z"
      },
      {
        "duration": 1,
        "start_time": "2024-02-21T06:02:14.835Z"
      },
      {
        "duration": 0,
        "start_time": "2024-02-21T06:02:14.836Z"
      },
      {
        "duration": 1,
        "start_time": "2024-02-21T06:02:14.837Z"
      },
      {
        "duration": 0,
        "start_time": "2024-02-21T06:02:14.839Z"
      },
      {
        "duration": 0,
        "start_time": "2024-02-21T06:02:14.840Z"
      },
      {
        "duration": 10,
        "start_time": "2024-02-21T06:02:36.499Z"
      },
      {
        "duration": 0,
        "start_time": "2024-02-21T06:02:36.511Z"
      },
      {
        "duration": 0,
        "start_time": "2024-02-21T06:02:36.512Z"
      },
      {
        "duration": 0,
        "start_time": "2024-02-21T06:02:36.513Z"
      },
      {
        "duration": 47,
        "start_time": "2024-02-21T06:02:36.515Z"
      },
      {
        "duration": 0,
        "start_time": "2024-02-21T06:02:36.565Z"
      },
      {
        "duration": 0,
        "start_time": "2024-02-21T06:02:36.566Z"
      },
      {
        "duration": 0,
        "start_time": "2024-02-21T06:02:36.567Z"
      },
      {
        "duration": 1,
        "start_time": "2024-02-21T06:02:36.567Z"
      },
      {
        "duration": 0,
        "start_time": "2024-02-21T06:02:36.568Z"
      },
      {
        "duration": 0,
        "start_time": "2024-02-21T06:02:36.569Z"
      },
      {
        "duration": 0,
        "start_time": "2024-02-21T06:02:36.570Z"
      },
      {
        "duration": 0,
        "start_time": "2024-02-21T06:02:36.572Z"
      },
      {
        "duration": 0,
        "start_time": "2024-02-21T06:02:36.573Z"
      },
      {
        "duration": 0,
        "start_time": "2024-02-21T06:02:36.574Z"
      },
      {
        "duration": 0,
        "start_time": "2024-02-21T06:02:36.575Z"
      },
      {
        "duration": 0,
        "start_time": "2024-02-21T06:02:36.576Z"
      },
      {
        "duration": 0,
        "start_time": "2024-02-21T06:02:36.576Z"
      },
      {
        "duration": 3,
        "start_time": "2024-02-21T06:02:36.619Z"
      },
      {
        "duration": 9,
        "start_time": "2024-02-21T06:02:36.624Z"
      },
      {
        "duration": 0,
        "start_time": "2024-02-21T06:02:36.634Z"
      },
      {
        "duration": 0,
        "start_time": "2024-02-21T06:02:36.635Z"
      },
      {
        "duration": 0,
        "start_time": "2024-02-21T06:02:36.636Z"
      },
      {
        "duration": 0,
        "start_time": "2024-02-21T06:02:36.638Z"
      },
      {
        "duration": 0,
        "start_time": "2024-02-21T06:02:36.638Z"
      },
      {
        "duration": 0,
        "start_time": "2024-02-21T06:02:36.639Z"
      },
      {
        "duration": 0,
        "start_time": "2024-02-21T06:02:36.640Z"
      },
      {
        "duration": 0,
        "start_time": "2024-02-21T06:02:36.641Z"
      },
      {
        "duration": 0,
        "start_time": "2024-02-21T06:02:36.642Z"
      },
      {
        "duration": 0,
        "start_time": "2024-02-21T06:02:36.643Z"
      },
      {
        "duration": 0,
        "start_time": "2024-02-21T06:02:36.644Z"
      },
      {
        "duration": 0,
        "start_time": "2024-02-21T06:02:36.645Z"
      },
      {
        "duration": 0,
        "start_time": "2024-02-21T06:02:36.646Z"
      },
      {
        "duration": 4643,
        "start_time": "2024-02-21T06:03:32.828Z"
      },
      {
        "duration": 845,
        "start_time": "2024-02-21T06:03:37.473Z"
      },
      {
        "duration": 11,
        "start_time": "2024-02-21T06:03:38.320Z"
      },
      {
        "duration": 30,
        "start_time": "2024-02-21T06:03:38.333Z"
      },
      {
        "duration": 54,
        "start_time": "2024-02-21T06:03:38.365Z"
      },
      {
        "duration": 231,
        "start_time": "2024-02-21T06:03:38.420Z"
      },
      {
        "duration": 3,
        "start_time": "2024-02-21T06:03:38.652Z"
      },
      {
        "duration": 3992,
        "start_time": "2024-02-21T06:03:38.657Z"
      },
      {
        "duration": 3,
        "start_time": "2024-02-21T06:03:42.650Z"
      },
      {
        "duration": 412,
        "start_time": "2024-02-21T06:03:42.656Z"
      },
      {
        "duration": 3,
        "start_time": "2024-02-21T06:03:43.069Z"
      },
      {
        "duration": 2150983,
        "start_time": "2024-02-21T06:03:43.074Z"
      },
      {
        "duration": 8,
        "start_time": "2024-02-21T06:39:34.059Z"
      },
      {
        "duration": 34,
        "start_time": "2024-02-21T06:39:34.068Z"
      },
      {
        "duration": 18,
        "start_time": "2024-02-21T06:39:34.104Z"
      },
      {
        "duration": 178,
        "start_time": "2024-02-21T06:39:34.123Z"
      },
      {
        "duration": 189,
        "start_time": "2024-02-21T06:39:34.303Z"
      },
      {
        "duration": 157,
        "start_time": "2024-02-21T06:39:34.493Z"
      },
      {
        "duration": 3,
        "start_time": "2024-02-21T06:39:34.651Z"
      },
      {
        "duration": 21,
        "start_time": "2024-02-21T06:39:34.655Z"
      },
      {
        "duration": 3,
        "start_time": "2024-02-21T06:39:34.678Z"
      },
      {
        "duration": 8,
        "start_time": "2024-02-21T06:39:34.682Z"
      },
      {
        "duration": 5,
        "start_time": "2024-02-21T06:39:34.691Z"
      },
      {
        "duration": 26,
        "start_time": "2024-02-21T06:39:34.697Z"
      },
      {
        "duration": 3,
        "start_time": "2024-02-21T06:39:34.724Z"
      },
      {
        "duration": 6,
        "start_time": "2024-02-21T06:39:34.728Z"
      },
      {
        "duration": 5,
        "start_time": "2024-02-21T06:39:34.736Z"
      },
      {
        "duration": 6,
        "start_time": "2024-02-21T06:39:34.744Z"
      },
      {
        "duration": 708292,
        "start_time": "2024-02-21T06:39:34.751Z"
      },
      {
        "duration": 21,
        "start_time": "2024-02-21T06:51:23.045Z"
      },
      {
        "duration": 8,
        "start_time": "2024-02-21T06:51:23.067Z"
      },
      {
        "duration": 657,
        "start_time": "2024-02-21T06:51:23.077Z"
      },
      {
        "duration": 8,
        "start_time": "2024-02-21T06:51:23.735Z"
      },
      {
        "duration": 3953,
        "start_time": "2024-02-21T14:53:37.553Z"
      },
      {
        "duration": 6,
        "start_time": "2024-02-21T14:53:44.780Z"
      },
      {
        "duration": 140,
        "start_time": "2024-02-21T14:53:46.116Z"
      },
      {
        "duration": 2069,
        "start_time": "2024-02-21T14:54:06.468Z"
      },
      {
        "duration": 208,
        "start_time": "2024-02-21T14:54:18.630Z"
      },
      {
        "duration": 3,
        "start_time": "2024-02-21T14:54:22.081Z"
      },
      {
        "duration": 3733,
        "start_time": "2024-02-21T14:54:29.940Z"
      },
      {
        "duration": 314,
        "start_time": "2024-02-21T14:54:47.252Z"
      },
      {
        "duration": 437,
        "start_time": "2024-02-21T14:54:55.312Z"
      },
      {
        "duration": 640212,
        "start_time": "2024-02-21T14:55:01.940Z"
      },
      {
        "duration": 11,
        "start_time": "2024-02-21T15:05:50.825Z"
      },
      {
        "duration": 3,
        "start_time": "2024-02-21T15:06:55.770Z"
      },
      {
        "duration": 3,
        "start_time": "2024-02-21T15:07:47.065Z"
      },
      {
        "duration": 32,
        "start_time": "2024-02-21T15:15:26.947Z"
      },
      {
        "duration": 8,
        "start_time": "2024-02-21T15:15:31.157Z"
      },
      {
        "duration": 20,
        "start_time": "2024-02-21T15:16:51.900Z"
      },
      {
        "duration": 8,
        "start_time": "2024-02-21T15:16:55.292Z"
      },
      {
        "duration": 3708,
        "start_time": "2024-02-21T15:23:45.086Z"
      },
      {
        "duration": 5,
        "start_time": "2024-02-21T15:23:48.796Z"
      },
      {
        "duration": 126,
        "start_time": "2024-02-21T15:23:50.602Z"
      },
      {
        "duration": 782,
        "start_time": "2024-02-21T15:24:03.982Z"
      },
      {
        "duration": 206,
        "start_time": "2024-02-21T15:25:30.003Z"
      },
      {
        "duration": 3,
        "start_time": "2024-02-21T15:25:33.696Z"
      },
      {
        "duration": 455,
        "start_time": "2024-02-21T15:27:05.193Z"
      },
      {
        "duration": 3762,
        "start_time": "2024-02-21T15:27:14.861Z"
      },
      {
        "duration": 512916,
        "start_time": "2024-02-21T15:27:28.595Z"
      },
      {
        "duration": 20,
        "start_time": "2024-02-21T15:36:38.176Z"
      },
      {
        "duration": 12,
        "start_time": "2024-02-21T15:36:40.518Z"
      },
      {
        "duration": 31,
        "start_time": "2024-02-21T15:37:25.104Z"
      },
      {
        "duration": 5,
        "start_time": "2024-02-21T15:37:31.503Z"
      },
      {
        "duration": 164,
        "start_time": "2024-02-21T15:37:45.017Z"
      },
      {
        "duration": 168,
        "start_time": "2024-02-21T15:37:49.013Z"
      },
      {
        "duration": 136,
        "start_time": "2024-02-21T15:37:53.005Z"
      },
      {
        "duration": 3,
        "start_time": "2024-02-21T15:38:35.517Z"
      },
      {
        "duration": 1554,
        "start_time": "2024-02-21T15:40:52.460Z"
      },
      {
        "duration": 19,
        "start_time": "2024-02-21T15:41:08.839Z"
      },
      {
        "duration": 12,
        "start_time": "2024-02-21T15:41:44.405Z"
      },
      {
        "duration": 25,
        "start_time": "2024-02-21T15:56:50.711Z"
      },
      {
        "duration": 3,
        "start_time": "2024-02-21T15:56:56.814Z"
      },
      {
        "duration": 3,
        "start_time": "2024-02-21T15:57:00.772Z"
      },
      {
        "duration": 5,
        "start_time": "2024-02-21T15:57:18.660Z"
      },
      {
        "duration": 3,
        "start_time": "2024-02-21T15:58:01.239Z"
      },
      {
        "duration": 4,
        "start_time": "2024-02-21T15:58:04.410Z"
      },
      {
        "duration": 3,
        "start_time": "2024-02-21T15:58:45.607Z"
      },
      {
        "duration": 3,
        "start_time": "2024-02-21T15:59:57.878Z"
      },
      {
        "duration": 3,
        "start_time": "2024-02-21T16:00:05.914Z"
      },
      {
        "duration": 977426,
        "start_time": "2024-02-21T16:00:09.549Z"
      },
      {
        "duration": 19,
        "start_time": "2024-02-21T16:16:57.122Z"
      },
      {
        "duration": 4,
        "start_time": "2024-02-21T16:17:05.365Z"
      },
      {
        "duration": 634,
        "start_time": "2024-02-21T16:17:12.021Z"
      },
      {
        "duration": 8,
        "start_time": "2024-02-21T16:17:15.225Z"
      },
      {
        "duration": 3865,
        "start_time": "2024-02-21T16:34:23.564Z"
      },
      {
        "duration": 5,
        "start_time": "2024-02-21T16:34:27.431Z"
      },
      {
        "duration": 17,
        "start_time": "2024-02-21T16:34:27.437Z"
      },
      {
        "duration": 3,
        "start_time": "2024-02-21T16:34:27.456Z"
      },
      {
        "duration": 823,
        "start_time": "2024-02-21T16:34:27.461Z"
      },
      {
        "duration": 12,
        "start_time": "2024-02-21T16:34:28.285Z"
      },
      {
        "duration": 67,
        "start_time": "2024-02-21T16:34:28.298Z"
      },
      {
        "duration": 33,
        "start_time": "2024-02-21T16:34:28.367Z"
      },
      {
        "duration": 275,
        "start_time": "2024-02-21T16:34:28.402Z"
      },
      {
        "duration": 2,
        "start_time": "2024-02-21T16:34:28.680Z"
      },
      {
        "duration": 4050,
        "start_time": "2024-02-21T16:34:28.683Z"
      },
      {
        "duration": 462,
        "start_time": "2024-02-21T16:34:32.735Z"
      },
      {
        "duration": 526809,
        "start_time": "2024-02-21T16:34:33.198Z"
      },
      {
        "duration": 20,
        "start_time": "2024-02-21T16:43:20.008Z"
      },
      {
        "duration": 46,
        "start_time": "2024-02-21T16:43:20.030Z"
      },
      {
        "duration": 22,
        "start_time": "2024-02-21T16:43:20.078Z"
      },
      {
        "duration": 7,
        "start_time": "2024-02-21T16:43:20.101Z"
      },
      {
        "duration": 182,
        "start_time": "2024-02-21T16:43:20.110Z"
      },
      {
        "duration": 175,
        "start_time": "2024-02-21T16:43:20.293Z"
      },
      {
        "duration": 143,
        "start_time": "2024-02-21T16:43:20.470Z"
      },
      {
        "duration": 15,
        "start_time": "2024-02-21T16:43:20.615Z"
      },
      {
        "duration": 14,
        "start_time": "2024-02-21T16:43:20.632Z"
      },
      {
        "duration": 9,
        "start_time": "2024-02-21T16:43:20.648Z"
      },
      {
        "duration": 12,
        "start_time": "2024-02-21T16:43:20.658Z"
      },
      {
        "duration": 6,
        "start_time": "2024-02-21T16:43:20.671Z"
      },
      {
        "duration": 14,
        "start_time": "2024-02-21T16:43:20.678Z"
      },
      {
        "duration": 4,
        "start_time": "2024-02-21T16:43:20.693Z"
      },
      {
        "duration": 972377,
        "start_time": "2024-02-21T16:43:20.700Z"
      },
      {
        "duration": 22,
        "start_time": "2024-02-21T16:59:33.079Z"
      },
      {
        "duration": 25,
        "start_time": "2024-02-21T16:59:33.103Z"
      },
      {
        "duration": 691,
        "start_time": "2024-02-21T16:59:33.130Z"
      },
      {
        "duration": 8,
        "start_time": "2024-02-21T16:59:33.823Z"
      },
      {
        "duration": 4002,
        "start_time": "2024-02-21T17:06:07.867Z"
      },
      {
        "duration": 46,
        "start_time": "2024-02-21T17:07:43.995Z"
      },
      {
        "duration": 3,
        "start_time": "2024-02-21T17:08:02.273Z"
      },
      {
        "duration": 3698,
        "start_time": "2024-02-21T17:08:11.327Z"
      },
      {
        "duration": 5,
        "start_time": "2024-02-21T17:08:15.026Z"
      },
      {
        "duration": 47,
        "start_time": "2024-02-21T17:08:15.033Z"
      },
      {
        "duration": 2236,
        "start_time": "2024-02-21T17:08:15.081Z"
      },
      {
        "duration": 21,
        "start_time": "2024-02-21T17:08:17.319Z"
      },
      {
        "duration": 12,
        "start_time": "2024-02-21T17:08:17.341Z"
      },
      {
        "duration": 246,
        "start_time": "2024-02-21T17:08:17.355Z"
      },
      {
        "duration": 1028,
        "start_time": "2024-02-21T17:08:17.603Z"
      },
      {
        "duration": 185,
        "start_time": "2024-02-21T17:08:18.632Z"
      },
      {
        "duration": 192,
        "start_time": "2024-02-21T17:08:18.820Z"
      },
      {
        "duration": 235,
        "start_time": "2024-02-21T17:08:19.014Z"
      },
      {
        "duration": 410,
        "start_time": "2024-02-21T17:08:19.250Z"
      },
      {
        "duration": 243,
        "start_time": "2024-02-21T17:08:19.662Z"
      },
      {
        "duration": 3906,
        "start_time": "2024-02-21T17:08:19.907Z"
      },
      {
        "duration": 640,
        "start_time": "2024-02-21T17:08:23.814Z"
      },
      {
        "duration": 3717,
        "start_time": "2024-02-21T17:09:23.812Z"
      },
      {
        "duration": 5,
        "start_time": "2024-02-21T17:09:27.531Z"
      },
      {
        "duration": 3,
        "start_time": "2024-02-21T17:09:27.544Z"
      },
      {
        "duration": 2248,
        "start_time": "2024-02-21T17:09:27.549Z"
      },
      {
        "duration": 2,
        "start_time": "2024-02-21T17:09:29.799Z"
      },
      {
        "duration": 792,
        "start_time": "2024-02-21T17:09:29.803Z"
      },
      {
        "duration": 15,
        "start_time": "2024-02-21T17:09:30.596Z"
      },
      {
        "duration": 162,
        "start_time": "2024-02-21T17:09:30.613Z"
      },
      {
        "duration": 69,
        "start_time": "2024-02-21T17:09:30.776Z"
      },
      {
        "duration": 292,
        "start_time": "2024-02-21T17:09:30.848Z"
      },
      {
        "duration": 4,
        "start_time": "2024-02-21T17:09:31.141Z"
      },
      {
        "duration": 3768,
        "start_time": "2024-02-21T17:09:31.146Z"
      },
      {
        "duration": 436,
        "start_time": "2024-02-21T17:09:34.916Z"
      },
      {
        "duration": 519449,
        "start_time": "2024-02-21T17:09:35.354Z"
      },
      {
        "duration": 22,
        "start_time": "2024-02-21T17:18:14.804Z"
      },
      {
        "duration": 52,
        "start_time": "2024-02-21T17:18:14.827Z"
      },
      {
        "duration": 24,
        "start_time": "2024-02-21T17:18:14.881Z"
      },
      {
        "duration": 16,
        "start_time": "2024-02-21T17:18:14.907Z"
      },
      {
        "duration": 175,
        "start_time": "2024-02-21T17:18:14.925Z"
      },
      {
        "duration": 180,
        "start_time": "2024-02-21T17:18:15.102Z"
      },
      {
        "duration": 158,
        "start_time": "2024-02-21T17:18:15.283Z"
      },
      {
        "duration": 17,
        "start_time": "2024-02-21T17:18:15.445Z"
      },
      {
        "duration": 4,
        "start_time": "2024-02-21T17:18:15.464Z"
      },
      {
        "duration": 6,
        "start_time": "2024-02-21T17:18:15.469Z"
      },
      {
        "duration": 6,
        "start_time": "2024-02-21T17:18:15.476Z"
      },
      {
        "duration": 17,
        "start_time": "2024-02-21T17:18:15.483Z"
      },
      {
        "duration": 11,
        "start_time": "2024-02-21T17:18:15.501Z"
      },
      {
        "duration": 4,
        "start_time": "2024-02-21T17:18:15.514Z"
      },
      {
        "duration": 978457,
        "start_time": "2024-02-21T17:18:15.519Z"
      },
      {
        "duration": 21,
        "start_time": "2024-02-21T17:34:33.977Z"
      },
      {
        "duration": 34,
        "start_time": "2024-02-21T17:34:33.999Z"
      },
      {
        "duration": 652,
        "start_time": "2024-02-21T17:34:34.035Z"
      },
      {
        "duration": 7,
        "start_time": "2024-02-21T17:34:34.689Z"
      },
      {
        "duration": 3855,
        "start_time": "2024-02-21T18:01:16.725Z"
      },
      {
        "duration": 5,
        "start_time": "2024-02-21T18:01:20.582Z"
      },
      {
        "duration": 14,
        "start_time": "2024-02-21T18:01:20.588Z"
      },
      {
        "duration": 7,
        "start_time": "2024-02-21T18:01:20.603Z"
      },
      {
        "duration": 821,
        "start_time": "2024-02-21T18:01:20.612Z"
      },
      {
        "duration": 16,
        "start_time": "2024-02-21T18:01:21.434Z"
      },
      {
        "duration": 30,
        "start_time": "2024-02-21T18:01:21.453Z"
      },
      {
        "duration": 26,
        "start_time": "2024-02-21T18:01:21.485Z"
      },
      {
        "duration": 232,
        "start_time": "2024-02-21T18:01:21.513Z"
      },
      {
        "duration": 2,
        "start_time": "2024-02-21T18:01:21.747Z"
      },
      {
        "duration": 3781,
        "start_time": "2024-02-21T18:01:21.751Z"
      },
      {
        "duration": 445,
        "start_time": "2024-02-21T18:01:25.533Z"
      },
      {
        "duration": 517756,
        "start_time": "2024-02-21T18:01:25.979Z"
      },
      {
        "duration": 35,
        "start_time": "2024-02-21T18:10:03.738Z"
      },
      {
        "duration": 50,
        "start_time": "2024-02-21T18:10:03.775Z"
      },
      {
        "duration": 27,
        "start_time": "2024-02-21T18:10:03.826Z"
      },
      {
        "duration": 25,
        "start_time": "2024-02-21T18:10:03.854Z"
      },
      {
        "duration": 177,
        "start_time": "2024-02-21T18:10:03.881Z"
      },
      {
        "duration": 174,
        "start_time": "2024-02-21T18:10:04.059Z"
      },
      {
        "duration": 147,
        "start_time": "2024-02-21T18:10:04.234Z"
      },
      {
        "duration": 14,
        "start_time": "2024-02-21T18:10:04.382Z"
      },
      {
        "duration": 3,
        "start_time": "2024-02-21T18:10:04.398Z"
      },
      {
        "duration": 23,
        "start_time": "2024-02-21T18:10:04.402Z"
      },
      {
        "duration": 4,
        "start_time": "2024-02-21T18:10:04.426Z"
      },
      {
        "duration": 3,
        "start_time": "2024-02-21T18:10:04.431Z"
      },
      {
        "duration": 6,
        "start_time": "2024-02-21T18:10:04.435Z"
      },
      {
        "duration": 2,
        "start_time": "2024-02-21T18:10:04.445Z"
      },
      {
        "duration": 979038,
        "start_time": "2024-02-21T18:10:04.448Z"
      },
      {
        "duration": 20,
        "start_time": "2024-02-21T18:26:23.488Z"
      },
      {
        "duration": 20,
        "start_time": "2024-02-21T18:26:23.510Z"
      },
      {
        "duration": 632,
        "start_time": "2024-02-21T18:26:23.532Z"
      },
      {
        "duration": 8,
        "start_time": "2024-02-21T18:26:24.166Z"
      },
      {
        "duration": 4964,
        "start_time": "2024-04-03T08:14:19.846Z"
      },
      {
        "duration": 6,
        "start_time": "2024-04-03T08:14:24.812Z"
      },
      {
        "duration": 9,
        "start_time": "2024-04-03T08:14:24.820Z"
      },
      {
        "duration": 12,
        "start_time": "2024-04-03T08:14:24.830Z"
      },
      {
        "duration": 2336,
        "start_time": "2024-04-03T08:14:24.844Z"
      },
      {
        "duration": 12,
        "start_time": "2024-04-03T08:14:27.182Z"
      },
      {
        "duration": 45,
        "start_time": "2024-04-03T08:14:27.195Z"
      },
      {
        "duration": 32,
        "start_time": "2024-04-03T08:14:27.241Z"
      },
      {
        "duration": 224,
        "start_time": "2024-04-03T08:14:27.275Z"
      },
      {
        "duration": 3,
        "start_time": "2024-04-03T08:14:27.500Z"
      },
      {
        "duration": 4112,
        "start_time": "2024-04-03T08:14:27.505Z"
      },
      {
        "duration": 795,
        "start_time": "2024-04-03T08:14:31.618Z"
      },
      {
        "duration": 42028,
        "start_time": "2024-04-03T08:14:32.415Z"
      },
      {
        "duration": 0,
        "start_time": "2024-04-03T08:15:14.446Z"
      },
      {
        "duration": 0,
        "start_time": "2024-04-03T08:15:14.447Z"
      },
      {
        "duration": 0,
        "start_time": "2024-04-03T08:15:14.448Z"
      },
      {
        "duration": 0,
        "start_time": "2024-04-03T08:15:14.449Z"
      },
      {
        "duration": 0,
        "start_time": "2024-04-03T08:15:14.451Z"
      },
      {
        "duration": 0,
        "start_time": "2024-04-03T08:15:14.452Z"
      },
      {
        "duration": 0,
        "start_time": "2024-04-03T08:15:14.453Z"
      },
      {
        "duration": 0,
        "start_time": "2024-04-03T08:15:14.454Z"
      },
      {
        "duration": 0,
        "start_time": "2024-04-03T08:15:14.456Z"
      },
      {
        "duration": 0,
        "start_time": "2024-04-03T08:15:14.457Z"
      },
      {
        "duration": 0,
        "start_time": "2024-04-03T08:15:14.458Z"
      },
      {
        "duration": 0,
        "start_time": "2024-04-03T08:15:14.459Z"
      },
      {
        "duration": 0,
        "start_time": "2024-04-03T08:15:14.460Z"
      },
      {
        "duration": 0,
        "start_time": "2024-04-03T08:15:14.461Z"
      },
      {
        "duration": 0,
        "start_time": "2024-04-03T08:15:14.462Z"
      },
      {
        "duration": 0,
        "start_time": "2024-04-03T08:15:14.463Z"
      },
      {
        "duration": 0,
        "start_time": "2024-04-03T08:15:14.464Z"
      },
      {
        "duration": 0,
        "start_time": "2024-04-03T08:15:14.465Z"
      },
      {
        "duration": 0,
        "start_time": "2024-04-03T08:15:14.466Z"
      },
      {
        "duration": 156,
        "start_time": "2024-04-03T08:15:20.059Z"
      },
      {
        "duration": 73817,
        "start_time": "2024-04-03T08:15:44.213Z"
      },
      {
        "duration": 1042,
        "start_time": "2024-04-03T08:17:22.516Z"
      },
      {
        "duration": 978,
        "start_time": "2024-04-03T08:18:11.219Z"
      },
      {
        "duration": 25931,
        "start_time": "2024-04-03T08:18:19.793Z"
      },
      {
        "duration": 19,
        "start_time": "2024-04-03T08:20:10.481Z"
      },
      {
        "duration": 18,
        "start_time": "2024-04-03T08:21:10.114Z"
      },
      {
        "duration": 8,
        "start_time": "2024-04-03T08:21:31.284Z"
      },
      {
        "duration": 38,
        "start_time": "2024-04-03T08:21:41.138Z"
      },
      {
        "duration": 146,
        "start_time": "2024-04-03T08:22:13.718Z"
      },
      {
        "duration": 3858,
        "start_time": "2024-04-03T08:22:32.797Z"
      },
      {
        "duration": 6,
        "start_time": "2024-04-03T08:22:36.656Z"
      },
      {
        "duration": 17,
        "start_time": "2024-04-03T08:22:36.663Z"
      },
      {
        "duration": 15,
        "start_time": "2024-04-03T08:22:36.682Z"
      },
      {
        "duration": 817,
        "start_time": "2024-04-03T08:22:36.698Z"
      },
      {
        "duration": 11,
        "start_time": "2024-04-03T08:22:37.517Z"
      },
      {
        "duration": 40,
        "start_time": "2024-04-03T08:22:37.530Z"
      },
      {
        "duration": 24,
        "start_time": "2024-04-03T08:22:37.572Z"
      },
      {
        "duration": 223,
        "start_time": "2024-04-03T08:22:37.597Z"
      },
      {
        "duration": 3,
        "start_time": "2024-04-03T08:22:37.821Z"
      },
      {
        "duration": 4005,
        "start_time": "2024-04-03T08:22:37.825Z"
      },
      {
        "duration": 464,
        "start_time": "2024-04-03T08:22:41.832Z"
      },
      {
        "duration": 554421,
        "start_time": "2024-04-03T08:22:42.298Z"
      },
      {
        "duration": 27,
        "start_time": "2024-04-03T08:31:56.722Z"
      },
      {
        "duration": 39,
        "start_time": "2024-04-03T08:31:56.750Z"
      },
      {
        "duration": 22,
        "start_time": "2024-04-03T08:31:56.790Z"
      },
      {
        "duration": 15,
        "start_time": "2024-04-03T08:31:56.814Z"
      },
      {
        "duration": 190,
        "start_time": "2024-04-03T08:31:56.830Z"
      },
      {
        "duration": 183,
        "start_time": "2024-04-03T08:31:57.022Z"
      },
      {
        "duration": 6,
        "start_time": "2024-04-03T08:31:57.207Z"
      },
      {
        "duration": 343,
        "start_time": "2024-04-03T08:31:57.214Z"
      },
      {
        "duration": 0,
        "start_time": "2024-04-03T08:31:57.559Z"
      },
      {
        "duration": 0,
        "start_time": "2024-04-03T08:31:57.560Z"
      },
      {
        "duration": 0,
        "start_time": "2024-04-03T08:31:57.561Z"
      },
      {
        "duration": 0,
        "start_time": "2024-04-03T08:31:57.562Z"
      },
      {
        "duration": 0,
        "start_time": "2024-04-03T08:31:57.563Z"
      },
      {
        "duration": 0,
        "start_time": "2024-04-03T08:31:57.565Z"
      },
      {
        "duration": 0,
        "start_time": "2024-04-03T08:31:57.566Z"
      },
      {
        "duration": 0,
        "start_time": "2024-04-03T08:31:57.567Z"
      },
      {
        "duration": 0,
        "start_time": "2024-04-03T08:31:57.569Z"
      },
      {
        "duration": 0,
        "start_time": "2024-04-03T08:31:57.570Z"
      },
      {
        "duration": 0,
        "start_time": "2024-04-03T08:31:57.571Z"
      },
      {
        "duration": 0,
        "start_time": "2024-04-03T08:31:57.572Z"
      },
      {
        "duration": 170,
        "start_time": "2024-04-03T08:33:09.649Z"
      },
      {
        "duration": 15,
        "start_time": "2024-04-03T08:33:16.228Z"
      },
      {
        "duration": 3,
        "start_time": "2024-04-03T08:33:20.145Z"
      },
      {
        "duration": 3,
        "start_time": "2024-04-03T08:33:23.270Z"
      },
      {
        "duration": 3,
        "start_time": "2024-04-03T08:33:27.446Z"
      },
      {
        "duration": 3,
        "start_time": "2024-04-03T08:33:29.547Z"
      },
      {
        "duration": 3,
        "start_time": "2024-04-03T08:33:33.097Z"
      },
      {
        "duration": 1013980,
        "start_time": "2024-04-03T08:33:34.794Z"
      },
      {
        "duration": 23,
        "start_time": "2024-04-03T08:52:10.044Z"
      },
      {
        "duration": 4,
        "start_time": "2024-04-03T08:52:11.941Z"
      },
      {
        "duration": 713,
        "start_time": "2024-04-03T08:52:13.148Z"
      },
      {
        "duration": 7,
        "start_time": "2024-04-03T08:52:16.211Z"
      }
    ],
    "kernelspec": {
      "display_name": "Python 3 (ipykernel)",
      "language": "python",
      "name": "python3"
    },
    "language_info": {
      "codemirror_mode": {
        "name": "ipython",
        "version": 3
      },
      "file_extension": ".py",
      "mimetype": "text/x-python",
      "name": "python",
      "nbconvert_exporter": "python",
      "pygments_lexer": "ipython3",
      "version": "3.9.5"
    },
    "toc": {
      "base_numbering": 1,
      "nav_menu": {},
      "number_sections": true,
      "sideBar": true,
      "skip_h1_title": true,
      "title_cell": "Содержание",
      "title_sidebar": "Contents",
      "toc_cell": true,
      "toc_position": {
        "height": "calc(100% - 180px)",
        "left": "10px",
        "top": "150px",
        "width": "302.391px"
      },
      "toc_section_display": true,
      "toc_window_display": false
    },
    "colab": {
      "provenance": [],
      "include_colab_link": true
    }
  },
  "nbformat": 4,
  "nbformat_minor": 0
}